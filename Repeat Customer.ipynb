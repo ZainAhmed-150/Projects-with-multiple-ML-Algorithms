{
 "cells": [
  {
   "cell_type": "code",
   "execution_count": 188,
   "metadata": {},
   "outputs": [],
   "source": [
    "import pandas as pd\n",
    "import numpy as np\n",
    "import seaborn as sns\n",
    "import matplotlib.pyplot as plt\n",
    "\n",
    "from sklearn.metrics import (confusion_matrix,accuracy_score,precision_score,recall_score,f1_score,make_scorer,classification_report,roc_auc_score,roc_curve,\n",
    "                             average_precision_score,precision_recall_curve, roc_auc_score)\n",
    "from sklearn.impute import SimpleImputer\n",
    "from sklearn.linear_model import LogisticRegression\n",
    "from sklearn.feature_selection import RFE\n",
    "from sklearn.preprocessing import StandardScaler, normalize\n",
    "from sklearn.naive_bayes import GaussianNB\n",
    "from sklearn.svm import SVC, LinearSVC\n",
    "from sklearn.ensemble import RandomForestClassifier\n",
    "from sklearn.tree import DecisionTreeClassifier\n",
    "import math\n",
    "from datetime import datetime\n",
    "from sklearn.model_selection import train_test_split\n",
    "from sklearn.model_selection import cross_val_score\n",
    "\n",
    "import warnings\n",
    "warnings.filterwarnings(\"ignore\")"
   ]
  },
  {
   "cell_type": "code",
   "execution_count": 2,
   "metadata": {},
   "outputs": [],
   "source": [
    "mydata = pd.read_csv(\"dataset_for_zain-Copy1.csv\")"
   ]
  },
  {
   "cell_type": "code",
   "execution_count": 3,
   "metadata": {},
   "outputs": [
    {
     "data": {
      "text/html": [
       "<div>\n",
       "<style scoped>\n",
       "    .dataframe tbody tr th:only-of-type {\n",
       "        vertical-align: middle;\n",
       "    }\n",
       "\n",
       "    .dataframe tbody tr th {\n",
       "        vertical-align: top;\n",
       "    }\n",
       "\n",
       "    .dataframe thead th {\n",
       "        text-align: right;\n",
       "    }\n",
       "</style>\n",
       "<table border=\"1\" class=\"dataframe\">\n",
       "  <thead>\n",
       "    <tr style=\"text-align: right;\">\n",
       "      <th></th>\n",
       "      <th>repeat_user</th>\n",
       "      <th>minutes_content_consumed</th>\n",
       "      <th>search_num</th>\n",
       "      <th>distinct_number_of_videos_consumed</th>\n",
       "      <th>asset_completion_rate</th>\n",
       "      <th>course_completion_rate</th>\n",
       "      <th>first_asset_minutes_spent</th>\n",
       "      <th>time_of_day</th>\n",
       "      <th>day_of_week</th>\n",
       "    </tr>\n",
       "  </thead>\n",
       "  <tbody>\n",
       "    <tr>\n",
       "      <td>0</td>\n",
       "      <td>repeat_user</td>\n",
       "      <td>49.400000</td>\n",
       "      <td>1.0</td>\n",
       "      <td>7.0</td>\n",
       "      <td>0.888889</td>\n",
       "      <td>1.0</td>\n",
       "      <td>0.866667</td>\n",
       "      <td>Night</td>\n",
       "      <td>Tuesday</td>\n",
       "    </tr>\n",
       "    <tr>\n",
       "      <td>1</td>\n",
       "      <td>not_repeat</td>\n",
       "      <td>34.133333</td>\n",
       "      <td>1.0</td>\n",
       "      <td>6.0</td>\n",
       "      <td>0.857143</td>\n",
       "      <td>1.0</td>\n",
       "      <td>0.000000</td>\n",
       "      <td>Afternoon</td>\n",
       "      <td>Tuesday</td>\n",
       "    </tr>\n",
       "    <tr>\n",
       "      <td>2</td>\n",
       "      <td>not_repeat</td>\n",
       "      <td>0.033333</td>\n",
       "      <td>0.0</td>\n",
       "      <td>0.0</td>\n",
       "      <td>0.000000</td>\n",
       "      <td>NaN</td>\n",
       "      <td>0.033333</td>\n",
       "      <td>Morning</td>\n",
       "      <td>Thursday</td>\n",
       "    </tr>\n",
       "    <tr>\n",
       "      <td>3</td>\n",
       "      <td>not_repeat</td>\n",
       "      <td>83.933333</td>\n",
       "      <td>3.0</td>\n",
       "      <td>0.0</td>\n",
       "      <td>0.000000</td>\n",
       "      <td>NaN</td>\n",
       "      <td>83.933333</td>\n",
       "      <td>Night</td>\n",
       "      <td>Friday</td>\n",
       "    </tr>\n",
       "    <tr>\n",
       "      <td>4</td>\n",
       "      <td>not_repeat</td>\n",
       "      <td>1.183333</td>\n",
       "      <td>5.0</td>\n",
       "      <td>1.0</td>\n",
       "      <td>0.000000</td>\n",
       "      <td>0.0</td>\n",
       "      <td>0.450000</td>\n",
       "      <td>Afternoon</td>\n",
       "      <td>Tuesday</td>\n",
       "    </tr>\n",
       "  </tbody>\n",
       "</table>\n",
       "</div>"
      ],
      "text/plain": [
       "   repeat_user  minutes_content_consumed  search_num  \\\n",
       "0  repeat_user                 49.400000         1.0   \n",
       "1   not_repeat                 34.133333         1.0   \n",
       "2   not_repeat                  0.033333         0.0   \n",
       "3   not_repeat                 83.933333         3.0   \n",
       "4   not_repeat                  1.183333         5.0   \n",
       "\n",
       "   distinct_number_of_videos_consumed  asset_completion_rate  \\\n",
       "0                                 7.0               0.888889   \n",
       "1                                 6.0               0.857143   \n",
       "2                                 0.0               0.000000   \n",
       "3                                 0.0               0.000000   \n",
       "4                                 1.0               0.000000   \n",
       "\n",
       "   course_completion_rate  first_asset_minutes_spent time_of_day day_of_week  \n",
       "0                     1.0                   0.866667       Night     Tuesday  \n",
       "1                     1.0                   0.000000   Afternoon     Tuesday  \n",
       "2                     NaN                   0.033333     Morning    Thursday  \n",
       "3                     NaN                  83.933333       Night      Friday  \n",
       "4                     0.0                   0.450000   Afternoon     Tuesday  "
      ]
     },
     "execution_count": 3,
     "metadata": {},
     "output_type": "execute_result"
    }
   ],
   "source": [
    "mydata.head(5)"
   ]
  },
  {
   "cell_type": "code",
   "execution_count": 4,
   "metadata": {},
   "outputs": [
    {
     "name": "stdout",
     "output_type": "stream",
     "text": [
      "<class 'pandas.core.frame.DataFrame'>\n",
      "RangeIndex: 20000 entries, 0 to 19999\n",
      "Data columns (total 9 columns):\n",
      "repeat_user                           20000 non-null object\n",
      "minutes_content_consumed              17500 non-null float64\n",
      "search_num                            19998 non-null float64\n",
      "distinct_number_of_videos_consumed    19000 non-null float64\n",
      "asset_completion_rate                 19707 non-null float64\n",
      "course_completion_rate                14225 non-null float64\n",
      "first_asset_minutes_spent             19639 non-null float64\n",
      "time_of_day                           16800 non-null object\n",
      "day_of_week                           18200 non-null object\n",
      "dtypes: float64(6), object(3)\n",
      "memory usage: 1.4+ MB\n"
     ]
    }
   ],
   "source": [
    "mydata.info()"
   ]
  },
  {
   "cell_type": "code",
   "execution_count": 5,
   "metadata": {},
   "outputs": [
    {
     "data": {
      "text/plain": [
       "not_repeat     0.5304\n",
       "repeat_user    0.4696\n",
       "Name: repeat_user, dtype: float64"
      ]
     },
     "execution_count": 5,
     "metadata": {},
     "output_type": "execute_result"
    }
   ],
   "source": [
    "mydata['repeat_user'].value_counts(normalize=True)"
   ]
  },
  {
   "cell_type": "code",
   "execution_count": 6,
   "metadata": {},
   "outputs": [
    {
     "data": {
      "text/plain": [
       "<seaborn.axisgrid.PairGrid at 0x200d62b2d88>"
      ]
     },
     "execution_count": 6,
     "metadata": {},
     "output_type": "execute_result"
    },
    {
     "data": {
      "image/png": "[encoded data removed]",
      "text/plain": [
       "<Figure size 1080x1080 with 42 Axes>"
      ]
     },
     "metadata": {
      "needs_background": "light"
     },
     "output_type": "display_data"
    }
   ],
   "source": [
    "sns.pairplot(mydata, hue=None)"
   ]
  },
  {
   "cell_type": "code",
   "execution_count": 7,
   "metadata": {},
   "outputs": [
    {
     "data": {
      "image/png": "[encoded data removed]",
      "text/plain": [
       "<Figure size 432x288 with 1 Axes>"
      ]
     },
     "metadata": {
      "needs_background": "light"
     },
     "output_type": "display_data"
    }
   ],
   "source": [
    "mydata['repeat_user'].value_counts().plot(kind='bar', title='repeat and non-repeat count',grid=True,)\n",
    "plt.show()"
   ]
  },
  {
   "cell_type": "code",
   "execution_count": 8,
   "metadata": {},
   "outputs": [
    {
     "data": {
      "text/plain": [
       "<matplotlib.axes._subplots.AxesSubplot at 0x200d8ad15c8>"
      ]
     },
     "execution_count": 8,
     "metadata": {},
     "output_type": "execute_result"
    },
    {
     "data": {
      "image/png": "[encoded data removed]",
      "text/plain": [
       "<Figure size 432x288 with 1 Axes>"
      ]
     },
     "metadata": {
      "needs_background": "light"
     },
     "output_type": "display_data"
    }
   ],
   "source": [
    "sns.distplot(mydata[\"distinct_number_of_videos_consumed\"], bins=30)"
   ]
  },
  {
   "cell_type": "code",
   "execution_count": 9,
   "metadata": {},
   "outputs": [
    {
     "data": {
      "text/plain": [
       "0.0     0.305105\n",
       "1.0     0.143526\n",
       "2.0     0.089684\n",
       "3.0     0.053158\n",
       "7.0     0.045158\n",
       "          ...   \n",
       "58.0    0.000053\n",
       "68.0    0.000053\n",
       "70.0    0.000053\n",
       "63.0    0.000053\n",
       "61.0    0.000053\n",
       "Name: distinct_number_of_videos_consumed, Length: 79, dtype: float64"
      ]
     },
     "execution_count": 9,
     "metadata": {},
     "output_type": "execute_result"
    }
   ],
   "source": [
    "mydata['distinct_number_of_videos_consumed'].value_counts(normalize=True)"
   ]
  },
  {
   "cell_type": "code",
   "execution_count": 10,
   "metadata": {},
   "outputs": [
    {
     "data": {
      "image/png": "[encoded data removed]",
      "text/plain": [
       "<Figure size 432x288 with 1 Axes>"
      ]
     },
     "metadata": {
      "needs_background": "light"
     },
     "output_type": "display_data"
    }
   ],
   "source": [
    "mydata['asset_completion_rate'].plot(kind='hist',title='Asset Completion',alpha=0.90,grid=True)\n",
    "plt.show()"
   ]
  },
  {
   "cell_type": "code",
   "execution_count": 11,
   "metadata": {},
   "outputs": [
    {
     "data": {
      "text/plain": [
       "0.000000    0.424113\n",
       "1.000000    0.307556\n",
       "0.500000    0.059522\n",
       "0.666667    0.027249\n",
       "0.750000    0.018369\n",
       "              ...   \n",
       "0.911111    0.000051\n",
       "0.175000    0.000051\n",
       "0.740741    0.000051\n",
       "0.843750    0.000051\n",
       "0.730769    0.000051\n",
       "Name: asset_completion_rate, Length: 252, dtype: float64"
      ]
     },
     "execution_count": 11,
     "metadata": {},
     "output_type": "execute_result"
    }
   ],
   "source": [
    "mydata['asset_completion_rate'].value_counts(normalize=True)"
   ]
  },
  {
   "cell_type": "code",
   "execution_count": 12,
   "metadata": {},
   "outputs": [
    {
     "data": {
      "image/png": "[encoded data removed]",
      "text/plain": [
       "<Figure size 432x288 with 1 Axes>"
      ]
     },
     "metadata": {
      "needs_background": "light"
     },
     "output_type": "display_data"
    }
   ],
   "source": [
    "mydata['course_completion_rate'].plot(kind='hist',title='Course Completion Rate',alpha=0.90,grid=True)\n",
    "plt.show()"
   ]
  },
  {
   "cell_type": "code",
   "execution_count": 13,
   "metadata": {},
   "outputs": [
    {
     "data": {
      "image/png": "[encoded data removed]",
      "text/plain": [
       "<Figure size 432x288 with 1 Axes>"
      ]
     },
     "metadata": {
      "needs_background": "light"
     },
     "output_type": "display_data"
    }
   ],
   "source": [
    "mydata['time_of_day'].value_counts().plot(kind='bar', title='Part of Day',grid=True,)\n",
    "plt.show()"
   ]
  },
  {
   "cell_type": "markdown",
   "metadata": {},
   "source": [
    "### Bi-Variate Analysis"
   ]
  },
  {
   "cell_type": "code",
   "execution_count": 15,
   "metadata": {},
   "outputs": [],
   "source": [
    "new_data = mydata"
   ]
  },
  {
   "cell_type": "code",
   "execution_count": 37,
   "metadata": {},
   "outputs": [
    {
     "data": {
      "text/html": [
       "<div>\n",
       "<style scoped>\n",
       "    .dataframe tbody tr th:only-of-type {\n",
       "        vertical-align: middle;\n",
       "    }\n",
       "\n",
       "    .dataframe tbody tr th {\n",
       "        vertical-align: top;\n",
       "    }\n",
       "\n",
       "    .dataframe thead th {\n",
       "        text-align: right;\n",
       "    }\n",
       "</style>\n",
       "<table border=\"1\" class=\"dataframe\">\n",
       "  <thead>\n",
       "    <tr style=\"text-align: right;\">\n",
       "      <th></th>\n",
       "      <th>repeat_user</th>\n",
       "      <th>minutes_content_consumed</th>\n",
       "      <th>search_num</th>\n",
       "      <th>distinct_number_of_videos_consumed</th>\n",
       "      <th>asset_completion_rate</th>\n",
       "      <th>course_completion_rate</th>\n",
       "      <th>first_asset_minutes_spent</th>\n",
       "      <th>time_of_day</th>\n",
       "      <th>day_of_week</th>\n",
       "      <th>user_status</th>\n",
       "      <th>time_in_day</th>\n",
       "      <th>day_in_week</th>\n",
       "    </tr>\n",
       "  </thead>\n",
       "  <tbody>\n",
       "    <tr>\n",
       "      <td>0</td>\n",
       "      <td>repeat_user</td>\n",
       "      <td>49.400000</td>\n",
       "      <td>1.0</td>\n",
       "      <td>7.0</td>\n",
       "      <td>0.888889</td>\n",
       "      <td>1.0</td>\n",
       "      <td>0.866667</td>\n",
       "      <td>Night</td>\n",
       "      <td>Tuesday</td>\n",
       "      <td>1</td>\n",
       "      <td>4.0</td>\n",
       "      <td>2.0</td>\n",
       "    </tr>\n",
       "    <tr>\n",
       "      <td>1</td>\n",
       "      <td>not_repeat</td>\n",
       "      <td>34.133333</td>\n",
       "      <td>1.0</td>\n",
       "      <td>6.0</td>\n",
       "      <td>0.857143</td>\n",
       "      <td>1.0</td>\n",
       "      <td>0.000000</td>\n",
       "      <td>Afternoon</td>\n",
       "      <td>Tuesday</td>\n",
       "      <td>0</td>\n",
       "      <td>2.0</td>\n",
       "      <td>2.0</td>\n",
       "    </tr>\n",
       "    <tr>\n",
       "      <td>2</td>\n",
       "      <td>not_repeat</td>\n",
       "      <td>0.033333</td>\n",
       "      <td>0.0</td>\n",
       "      <td>0.0</td>\n",
       "      <td>0.000000</td>\n",
       "      <td>NaN</td>\n",
       "      <td>0.033333</td>\n",
       "      <td>Morning</td>\n",
       "      <td>Thursday</td>\n",
       "      <td>0</td>\n",
       "      <td>1.0</td>\n",
       "      <td>4.0</td>\n",
       "    </tr>\n",
       "    <tr>\n",
       "      <td>3</td>\n",
       "      <td>not_repeat</td>\n",
       "      <td>83.933333</td>\n",
       "      <td>3.0</td>\n",
       "      <td>0.0</td>\n",
       "      <td>0.000000</td>\n",
       "      <td>NaN</td>\n",
       "      <td>83.933333</td>\n",
       "      <td>Night</td>\n",
       "      <td>Friday</td>\n",
       "      <td>0</td>\n",
       "      <td>4.0</td>\n",
       "      <td>5.0</td>\n",
       "    </tr>\n",
       "    <tr>\n",
       "      <td>4</td>\n",
       "      <td>not_repeat</td>\n",
       "      <td>1.183333</td>\n",
       "      <td>5.0</td>\n",
       "      <td>1.0</td>\n",
       "      <td>0.000000</td>\n",
       "      <td>0.0</td>\n",
       "      <td>0.450000</td>\n",
       "      <td>Afternoon</td>\n",
       "      <td>Tuesday</td>\n",
       "      <td>0</td>\n",
       "      <td>2.0</td>\n",
       "      <td>2.0</td>\n",
       "    </tr>\n",
       "  </tbody>\n",
       "</table>\n",
       "</div>"
      ],
      "text/plain": [
       "   repeat_user  minutes_content_consumed  search_num  \\\n",
       "0  repeat_user                 49.400000         1.0   \n",
       "1   not_repeat                 34.133333         1.0   \n",
       "2   not_repeat                  0.033333         0.0   \n",
       "3   not_repeat                 83.933333         3.0   \n",
       "4   not_repeat                  1.183333         5.0   \n",
       "\n",
       "   distinct_number_of_videos_consumed  asset_completion_rate  \\\n",
       "0                                 7.0               0.888889   \n",
       "1                                 6.0               0.857143   \n",
       "2                                 0.0               0.000000   \n",
       "3                                 0.0               0.000000   \n",
       "4                                 1.0               0.000000   \n",
       "\n",
       "   course_completion_rate  first_asset_minutes_spent time_of_day day_of_week  \\\n",
       "0                     1.0                   0.866667       Night     Tuesday   \n",
       "1                     1.0                   0.000000   Afternoon     Tuesday   \n",
       "2                     NaN                   0.033333     Morning    Thursday   \n",
       "3                     NaN                  83.933333       Night      Friday   \n",
       "4                     0.0                   0.450000   Afternoon     Tuesday   \n",
       "\n",
       "   user_status  time_in_day  day_in_week  \n",
       "0            1          4.0          2.0  \n",
       "1            0          2.0          2.0  \n",
       "2            0          1.0          4.0  \n",
       "3            0          4.0          5.0  \n",
       "4            0          2.0          2.0  "
      ]
     },
     "execution_count": 37,
     "metadata": {},
     "output_type": "execute_result"
    }
   ],
   "source": [
    "new_data.head()"
   ]
  },
  {
   "cell_type": "code",
   "execution_count": 28,
   "metadata": {},
   "outputs": [],
   "source": [
    "# created a dummy int variable for o/p for clear bi-variate analysis.\n",
    "\n",
    "new_data[\"user_status\"] = new_data[\"repeat_user\"] \n",
    "new_data[\"user_status\"].replace([\"repeat_user\", \"not_repeat\"], [1,0], inplace=True)\n",
    "\n",
    "new_data[\"time_in_day\"] = new_data[\"time_of_day\"]\n",
    "new_data[\"time_in_day\"].replace(['Night', 'Afternoon', 'Morning', 'Evening'], [4,2,1,3], inplace=True)\n",
    "\n",
    "new_data[\"day_in_week\"] = new_data[\"day_of_week\"]\n",
    "new_data[\"day_in_week\"].replace(['Tuesday', 'Thursday', 'Friday', 'Monday', 'Wednesday', 'Saturday',\n",
    "       'Sunday'], [2, 4, 5, 1, 3, 6, 7], inplace=True)"
   ]
  },
  {
   "cell_type": "code",
   "execution_count": 31,
   "metadata": {},
   "outputs": [],
   "source": [
    "mydata.drop([\"user_status\",\"time_in_day\",\"day_in_week\"], axis=1, inplace=True)"
   ]
  },
  {
   "cell_type": "code",
   "execution_count": 36,
   "metadata": {},
   "outputs": [
    {
     "data": {
      "text/html": [
       "<div>\n",
       "<style scoped>\n",
       "    .dataframe tbody tr th:only-of-type {\n",
       "        vertical-align: middle;\n",
       "    }\n",
       "\n",
       "    .dataframe tbody tr th {\n",
       "        vertical-align: top;\n",
       "    }\n",
       "\n",
       "    .dataframe thead th {\n",
       "        text-align: right;\n",
       "    }\n",
       "</style>\n",
       "<table border=\"1\" class=\"dataframe\">\n",
       "  <thead>\n",
       "    <tr style=\"text-align: right;\">\n",
       "      <th></th>\n",
       "      <th>repeat_user</th>\n",
       "      <th>minutes_content_consumed</th>\n",
       "      <th>search_num</th>\n",
       "      <th>distinct_number_of_videos_consumed</th>\n",
       "      <th>asset_completion_rate</th>\n",
       "      <th>course_completion_rate</th>\n",
       "      <th>first_asset_minutes_spent</th>\n",
       "      <th>time_of_day</th>\n",
       "      <th>day_of_week</th>\n",
       "      <th>user_status</th>\n",
       "      <th>time_in_day</th>\n",
       "      <th>day_in_week</th>\n",
       "    </tr>\n",
       "  </thead>\n",
       "  <tbody>\n",
       "    <tr>\n",
       "      <td>0</td>\n",
       "      <td>repeat_user</td>\n",
       "      <td>49.400000</td>\n",
       "      <td>1.0</td>\n",
       "      <td>7.0</td>\n",
       "      <td>0.888889</td>\n",
       "      <td>1.0</td>\n",
       "      <td>0.866667</td>\n",
       "      <td>Night</td>\n",
       "      <td>Tuesday</td>\n",
       "      <td>1</td>\n",
       "      <td>4.0</td>\n",
       "      <td>2.0</td>\n",
       "    </tr>\n",
       "    <tr>\n",
       "      <td>1</td>\n",
       "      <td>not_repeat</td>\n",
       "      <td>34.133333</td>\n",
       "      <td>1.0</td>\n",
       "      <td>6.0</td>\n",
       "      <td>0.857143</td>\n",
       "      <td>1.0</td>\n",
       "      <td>0.000000</td>\n",
       "      <td>Afternoon</td>\n",
       "      <td>Tuesday</td>\n",
       "      <td>0</td>\n",
       "      <td>2.0</td>\n",
       "      <td>2.0</td>\n",
       "    </tr>\n",
       "    <tr>\n",
       "      <td>2</td>\n",
       "      <td>not_repeat</td>\n",
       "      <td>0.033333</td>\n",
       "      <td>0.0</td>\n",
       "      <td>0.0</td>\n",
       "      <td>0.000000</td>\n",
       "      <td>NaN</td>\n",
       "      <td>0.033333</td>\n",
       "      <td>Morning</td>\n",
       "      <td>Thursday</td>\n",
       "      <td>0</td>\n",
       "      <td>1.0</td>\n",
       "      <td>4.0</td>\n",
       "    </tr>\n",
       "    <tr>\n",
       "      <td>3</td>\n",
       "      <td>not_repeat</td>\n",
       "      <td>83.933333</td>\n",
       "      <td>3.0</td>\n",
       "      <td>0.0</td>\n",
       "      <td>0.000000</td>\n",
       "      <td>NaN</td>\n",
       "      <td>83.933333</td>\n",
       "      <td>Night</td>\n",
       "      <td>Friday</td>\n",
       "      <td>0</td>\n",
       "      <td>4.0</td>\n",
       "      <td>5.0</td>\n",
       "    </tr>\n",
       "    <tr>\n",
       "      <td>4</td>\n",
       "      <td>not_repeat</td>\n",
       "      <td>1.183333</td>\n",
       "      <td>5.0</td>\n",
       "      <td>1.0</td>\n",
       "      <td>0.000000</td>\n",
       "      <td>0.0</td>\n",
       "      <td>0.450000</td>\n",
       "      <td>Afternoon</td>\n",
       "      <td>Tuesday</td>\n",
       "      <td>0</td>\n",
       "      <td>2.0</td>\n",
       "      <td>2.0</td>\n",
       "    </tr>\n",
       "  </tbody>\n",
       "</table>\n",
       "</div>"
      ],
      "text/plain": [
       "   repeat_user  minutes_content_consumed  search_num  \\\n",
       "0  repeat_user                 49.400000         1.0   \n",
       "1   not_repeat                 34.133333         1.0   \n",
       "2   not_repeat                  0.033333         0.0   \n",
       "3   not_repeat                 83.933333         3.0   \n",
       "4   not_repeat                  1.183333         5.0   \n",
       "\n",
       "   distinct_number_of_videos_consumed  asset_completion_rate  \\\n",
       "0                                 7.0               0.888889   \n",
       "1                                 6.0               0.857143   \n",
       "2                                 0.0               0.000000   \n",
       "3                                 0.0               0.000000   \n",
       "4                                 1.0               0.000000   \n",
       "\n",
       "   course_completion_rate  first_asset_minutes_spent time_of_day day_of_week  \\\n",
       "0                     1.0                   0.866667       Night     Tuesday   \n",
       "1                     1.0                   0.000000   Afternoon     Tuesday   \n",
       "2                     NaN                   0.033333     Morning    Thursday   \n",
       "3                     NaN                  83.933333       Night      Friday   \n",
       "4                     0.0                   0.450000   Afternoon     Tuesday   \n",
       "\n",
       "   user_status  time_in_day  day_in_week  \n",
       "0            1          4.0          2.0  \n",
       "1            0          2.0          2.0  \n",
       "2            0          1.0          4.0  \n",
       "3            0          4.0          5.0  \n",
       "4            0          2.0          2.0  "
      ]
     },
     "execution_count": 36,
     "metadata": {},
     "output_type": "execute_result"
    }
   ],
   "source": [
    "mydata.head()"
   ]
  },
  {
   "cell_type": "code",
   "execution_count": 34,
   "metadata": {},
   "outputs": [],
   "source": [
    "new_data[\"user_status\"] = new_data[\"repeat_user\"] \n",
    "new_data[\"user_status\"].replace([\"repeat_user\", \"not_repeat\"], [1,0], inplace=True)\n",
    "\n",
    "new_data[\"time_in_day\"] = new_data[\"time_of_day\"]\n",
    "new_data[\"time_in_day\"].replace(['Night', 'Afternoon', 'Morning', 'Evening'], [4,2,1,3], inplace=True)\n",
    "\n",
    "new_data[\"day_in_week\"] = new_data[\"day_of_week\"]\n",
    "new_data[\"day_in_week\"].replace(['Tuesday', 'Thursday', 'Friday', 'Monday', 'Wednesday', 'Saturday',\n",
    "       'Sunday'], [2, 4, 5, 1, 3, 6, 7], inplace=True)"
   ]
  },
  {
   "cell_type": "code",
   "execution_count": 35,
   "metadata": {},
   "outputs": [
    {
     "data": {
      "image/png": "[encoded data removed]",
      "text/plain": [
       "<Figure size 432x288 with 1 Axes>"
      ]
     },
     "metadata": {
      "needs_background": "light"
     },
     "output_type": "display_data"
    }
   ],
   "source": [
    "usertype = sorted(new_data['user_status'].unique())\n",
    "usertype_max=max(usertype)\n",
    "usertype_repeat=new_data[new_data['user_status']==1]['course_completion_rate']\n",
    "usertype_non_repeat=new_data[new_data['user_status']==0]['course_completion_rate']\n",
    "plt.hist([usertype_repeat,usertype_non_repeat],bins=usertype_max+3,range=(0, usertype_max),stacked=False)\n",
    "plt.legend(('Non_Repeat', 'Repeat'), loc='best')\n",
    "plt.xlabel('repeat user')\n",
    "plt.ylabel('Course Completion Rate')\n",
    "plt.title('Rrepeat rate by Course Completion Rate')\n",
    "plt.show()"
   ]
  },
  {
   "cell_type": "code",
   "execution_count": 38,
   "metadata": {},
   "outputs": [
    {
     "data": {
      "image/png": "[encoded data removed]",
      "text/plain": [
       "<Figure size 432x288 with 1 Axes>"
      ]
     },
     "metadata": {
      "needs_background": "light"
     },
     "output_type": "display_data"
    }
   ],
   "source": [
    "usertype = sorted(mydata['user_status'].unique())\n",
    "usertype_max=max(usertype)\n",
    "usertype_repeat=mydata[mydata['user_status']==1]['distinct_number_of_videos_consumed']\n",
    "usertype_non_repeat=mydata[mydata['user_status']==0]['distinct_number_of_videos_consumed']\n",
    "plt.hist([usertype_repeat,usertype_non_repeat],bins=usertype_max+2,range=(0, usertype_max),stacked=False)\n",
    "plt.legend(('Non_Repeat', 'Repeat'), loc='best')\n",
    "plt.xlabel('repeat user')\n",
    "plt.ylabel('search_num')\n",
    "plt.title('Rrepeat rate by distinct_number_of_videos_consumed')\n",
    "plt.show()"
   ]
  },
  {
   "cell_type": "code",
   "execution_count": 39,
   "metadata": {},
   "outputs": [
    {
     "data": {
      "image/png": "[encoded data removed]",
      "text/plain": [
       "<Figure size 432x288 with 1 Axes>"
      ]
     },
     "metadata": {
      "needs_background": "light"
     },
     "output_type": "display_data"
    }
   ],
   "source": [
    "usertype = sorted(mydata['user_status'].unique())\n",
    "usertype_max=max(usertype)\n",
    "usertype_repeat=mydata[mydata['user_status']==1]['asset_completion_rate']\n",
    "usertype_non_repeat=mydata[mydata['user_status']==0]['asset_completion_rate']\n",
    "plt.hist([usertype_repeat,usertype_non_repeat],bins=usertype_max+3,range=(0, usertype_max),stacked=False)\n",
    "plt.legend(('Non_Repeat', 'Repeat'), loc='best')\n",
    "plt.xlabel('repeat user')\n",
    "plt.ylabel('search_num')\n",
    "plt.title('Rrepeat rate by asset_completion')\n",
    "plt.show()"
   ]
  },
  {
   "cell_type": "code",
   "execution_count": 40,
   "metadata": {},
   "outputs": [
    {
     "data": {
      "image/png": "[encoded data removed]",
      "text/plain": [
       "<Figure size 432x288 with 1 Axes>"
      ]
     },
     "metadata": {
      "needs_background": "light"
     },
     "output_type": "display_data"
    }
   ],
   "source": [
    "usertype = sorted(mydata['user_status'].unique())\n",
    "usertype_max=max(usertype)\n",
    "usertype_repeat=mydata[mydata['user_status']==1]['first_asset_minutes_spent']\n",
    "usertype_non_repeat=mydata[mydata['user_status']==0]['first_asset_minutes_spent']\n",
    "plt.hist([usertype_repeat,usertype_non_repeat],bins=usertype_max+3,range=(0, usertype_max),stacked=False)\n",
    "plt.legend(('Non_Repeat', 'Repeat'), loc='best')\n",
    "plt.xlabel('repeat user')\n",
    "plt.ylabel('search_num')\n",
    "plt.title('Rrepeat rate by first_asset_minutes_spent')\n",
    "plt.show()"
   ]
  },
  {
   "cell_type": "code",
   "execution_count": 41,
   "metadata": {},
   "outputs": [
    {
     "name": "stdout",
     "output_type": "stream",
     "text": [
      "repeat_user                              0\n",
      "minutes_content_consumed              2500\n",
      "search_num                               2\n",
      "distinct_number_of_videos_consumed    1000\n",
      "asset_completion_rate                  293\n",
      "course_completion_rate                5775\n",
      "first_asset_minutes_spent              361\n",
      "time_of_day                           3200\n",
      "day_of_week                           1800\n",
      "user_status                              0\n",
      "time_in_day                           3200\n",
      "day_in_week                           1800\n",
      "dtype: int64\n"
     ]
    }
   ],
   "source": [
    "values = new_data.values\n",
    "\n",
    "print(new_data.isnull().sum())"
   ]
  },
  {
   "cell_type": "code",
   "execution_count": 308,
   "metadata": {},
   "outputs": [
    {
     "data": {
      "text/html": [
       "<div>\n",
       "<style scoped>\n",
       "    .dataframe tbody tr th:only-of-type {\n",
       "        vertical-align: middle;\n",
       "    }\n",
       "\n",
       "    .dataframe tbody tr th {\n",
       "        vertical-align: top;\n",
       "    }\n",
       "\n",
       "    .dataframe thead th {\n",
       "        text-align: right;\n",
       "    }\n",
       "</style>\n",
       "<table border=\"1\" class=\"dataframe\">\n",
       "  <thead>\n",
       "    <tr style=\"text-align: right;\">\n",
       "      <th></th>\n",
       "      <th>repeat_user</th>\n",
       "      <th>minutes_content_consumed</th>\n",
       "      <th>search_num</th>\n",
       "      <th>distinct_number_of_videos_consumed</th>\n",
       "      <th>asset_completion_rate</th>\n",
       "      <th>course_completion_rate</th>\n",
       "      <th>first_asset_minutes_spent</th>\n",
       "      <th>time_of_day</th>\n",
       "      <th>day_of_week</th>\n",
       "    </tr>\n",
       "  </thead>\n",
       "  <tbody>\n",
       "    <tr>\n",
       "      <td>0</td>\n",
       "      <td>repeat_user</td>\n",
       "      <td>49.400000</td>\n",
       "      <td>1.0</td>\n",
       "      <td>7.0</td>\n",
       "      <td>0.888889</td>\n",
       "      <td>1.0</td>\n",
       "      <td>0.866667</td>\n",
       "      <td>Night</td>\n",
       "      <td>Tuesday</td>\n",
       "    </tr>\n",
       "    <tr>\n",
       "      <td>1</td>\n",
       "      <td>not_repeat</td>\n",
       "      <td>34.133333</td>\n",
       "      <td>1.0</td>\n",
       "      <td>6.0</td>\n",
       "      <td>0.857143</td>\n",
       "      <td>1.0</td>\n",
       "      <td>0.000000</td>\n",
       "      <td>Afternoon</td>\n",
       "      <td>Tuesday</td>\n",
       "    </tr>\n",
       "    <tr>\n",
       "      <td>2</td>\n",
       "      <td>not_repeat</td>\n",
       "      <td>0.033333</td>\n",
       "      <td>0.0</td>\n",
       "      <td>0.0</td>\n",
       "      <td>0.000000</td>\n",
       "      <td>NaN</td>\n",
       "      <td>0.033333</td>\n",
       "      <td>Morning</td>\n",
       "      <td>Thursday</td>\n",
       "    </tr>\n",
       "    <tr>\n",
       "      <td>3</td>\n",
       "      <td>not_repeat</td>\n",
       "      <td>83.933333</td>\n",
       "      <td>3.0</td>\n",
       "      <td>0.0</td>\n",
       "      <td>0.000000</td>\n",
       "      <td>NaN</td>\n",
       "      <td>83.933333</td>\n",
       "      <td>Night</td>\n",
       "      <td>Friday</td>\n",
       "    </tr>\n",
       "    <tr>\n",
       "      <td>4</td>\n",
       "      <td>not_repeat</td>\n",
       "      <td>1.183333</td>\n",
       "      <td>5.0</td>\n",
       "      <td>1.0</td>\n",
       "      <td>0.000000</td>\n",
       "      <td>0.0</td>\n",
       "      <td>0.450000</td>\n",
       "      <td>Afternoon</td>\n",
       "      <td>Tuesday</td>\n",
       "    </tr>\n",
       "  </tbody>\n",
       "</table>\n",
       "</div>"
      ],
      "text/plain": [
       "   repeat_user  minutes_content_consumed  search_num  \\\n",
       "0  repeat_user                 49.400000         1.0   \n",
       "1   not_repeat                 34.133333         1.0   \n",
       "2   not_repeat                  0.033333         0.0   \n",
       "3   not_repeat                 83.933333         3.0   \n",
       "4   not_repeat                  1.183333         5.0   \n",
       "\n",
       "   distinct_number_of_videos_consumed  asset_completion_rate  \\\n",
       "0                                 7.0               0.888889   \n",
       "1                                 6.0               0.857143   \n",
       "2                                 0.0               0.000000   \n",
       "3                                 0.0               0.000000   \n",
       "4                                 1.0               0.000000   \n",
       "\n",
       "   course_completion_rate  first_asset_minutes_spent time_of_day day_of_week  \n",
       "0                     1.0                   0.866667       Night     Tuesday  \n",
       "1                     1.0                   0.000000   Afternoon     Tuesday  \n",
       "2                     NaN                   0.033333     Morning    Thursday  \n",
       "3                     NaN                  83.933333       Night      Friday  \n",
       "4                     0.0                   0.450000   Afternoon     Tuesday  "
      ]
     },
     "execution_count": 308,
     "metadata": {},
     "output_type": "execute_result"
    }
   ],
   "source": [
    "new_lat_data = pd.read_csv(\"dataset_for_zain-Copy1.csv\")\n",
    "new_lat_data.head()"
   ]
  },
  {
   "cell_type": "code",
   "execution_count": 311,
   "metadata": {},
   "outputs": [
    {
     "data": {
      "text/plain": [
       "repeat_user                              0\n",
       "minutes_content_consumed              2500\n",
       "search_num                               2\n",
       "distinct_number_of_videos_consumed    1000\n",
       "asset_completion_rate                  293\n",
       "course_completion_rate                5775\n",
       "first_asset_minutes_spent              361\n",
       "time_of_day                           3200\n",
       "day_of_week                           1800\n",
       "dtype: int64"
      ]
     },
     "execution_count": 311,
     "metadata": {},
     "output_type": "execute_result"
    }
   ],
   "source": [
    "new_lat_data.isnull().sum()"
   ]
  },
  {
   "cell_type": "code",
   "execution_count": 312,
   "metadata": {},
   "outputs": [],
   "source": [
    "new_lat_data[\"time_of_day\"].fillna(new_lat_data[\"time_of_day\"].mode()[0], inplace=True)\n",
    "new_lat_data[\"day_of_week\"].fillna(new_lat_data[\"day_of_week\"].mode()[0], inplace=True)\n",
    "new_lat_data[\"asset_completion_rate\"].fillna(new_lat_data[\"asset_completion_rate\"].median(), inplace=True)\n",
    "new_lat_data[\"minutes_content_consumed\"].fillna(new_lat_data[\"minutes_content_consumed\"].median(), inplace=True)\n",
    "new_lat_data[\"distinct_number_of_videos_consumed\"].fillna(new_lat_data[\"distinct_number_of_videos_consumed\"].median(), inplace=True)\n",
    "new_lat_data[\"course_completion_rate\"].fillna(new_lat_data[\"course_completion_rate\"].median(), inplace=True)\n",
    "new_lat_data[\"first_asset_minutes_spent\"].fillna(new_lat_data[\"first_asset_minutes_spent\"].median(), inplace=True)\n",
    "new_lat_data[\"search_num\"].fillna(new_lat_data[\"search_num\"].median(), inplace=True)"
   ]
  },
  {
   "cell_type": "code",
   "execution_count": 313,
   "metadata": {},
   "outputs": [
    {
     "data": {
      "text/plain": [
       "repeat_user                           0\n",
       "minutes_content_consumed              0\n",
       "search_num                            0\n",
       "distinct_number_of_videos_consumed    0\n",
       "asset_completion_rate                 0\n",
       "course_completion_rate                0\n",
       "first_asset_minutes_spent             0\n",
       "time_of_day                           0\n",
       "day_of_week                           0\n",
       "dtype: int64"
      ]
     },
     "execution_count": 313,
     "metadata": {},
     "output_type": "execute_result"
    }
   ],
   "source": [
    "new_lat_data.isnull().sum()"
   ]
  },
  {
   "cell_type": "code",
   "execution_count": 314,
   "metadata": {},
   "outputs": [],
   "source": []
  },
  {
   "cell_type": "code",
   "execution_count": 317,
   "metadata": {},
   "outputs": [],
   "source": [
    "week_num = pd.get_dummies(new_lat_data[\"day_of_week\"], drop_first=False)\n",
    "day_time = pd.get_dummies(new_lat_data[\"time_of_day\"], drop_first=False)"
   ]
  },
  {
   "cell_type": "code",
   "execution_count": 318,
   "metadata": {},
   "outputs": [],
   "source": [
    "new_lat_data = pd.concat([new_lat_data,week_num,day_time], axis=1)"
   ]
  },
  {
   "cell_type": "code",
   "execution_count": 319,
   "metadata": {},
   "outputs": [
    {
     "data": {
      "text/html": [
       "<div>\n",
       "<style scoped>\n",
       "    .dataframe tbody tr th:only-of-type {\n",
       "        vertical-align: middle;\n",
       "    }\n",
       "\n",
       "    .dataframe tbody tr th {\n",
       "        vertical-align: top;\n",
       "    }\n",
       "\n",
       "    .dataframe thead th {\n",
       "        text-align: right;\n",
       "    }\n",
       "</style>\n",
       "<table border=\"1\" class=\"dataframe\">\n",
       "  <thead>\n",
       "    <tr style=\"text-align: right;\">\n",
       "      <th></th>\n",
       "      <th>repeat_user</th>\n",
       "      <th>minutes_content_consumed</th>\n",
       "      <th>search_num</th>\n",
       "      <th>distinct_number_of_videos_consumed</th>\n",
       "      <th>asset_completion_rate</th>\n",
       "      <th>course_completion_rate</th>\n",
       "      <th>first_asset_minutes_spent</th>\n",
       "      <th>time_of_day</th>\n",
       "      <th>day_of_week</th>\n",
       "      <th>Friday</th>\n",
       "      <th>Monday</th>\n",
       "      <th>Saturday</th>\n",
       "      <th>Sunday</th>\n",
       "      <th>Thursday</th>\n",
       "      <th>Tuesday</th>\n",
       "      <th>Wednesday</th>\n",
       "      <th>Afternoon</th>\n",
       "      <th>Evening</th>\n",
       "      <th>Morning</th>\n",
       "      <th>Night</th>\n",
       "    </tr>\n",
       "  </thead>\n",
       "  <tbody>\n",
       "    <tr>\n",
       "      <td>0</td>\n",
       "      <td>repeat_user</td>\n",
       "      <td>49.400000</td>\n",
       "      <td>1.0</td>\n",
       "      <td>7.0</td>\n",
       "      <td>0.888889</td>\n",
       "      <td>1.0</td>\n",
       "      <td>0.866667</td>\n",
       "      <td>Night</td>\n",
       "      <td>Tuesday</td>\n",
       "      <td>0</td>\n",
       "      <td>0</td>\n",
       "      <td>0</td>\n",
       "      <td>0</td>\n",
       "      <td>0</td>\n",
       "      <td>1</td>\n",
       "      <td>0</td>\n",
       "      <td>0</td>\n",
       "      <td>0</td>\n",
       "      <td>0</td>\n",
       "      <td>1</td>\n",
       "    </tr>\n",
       "    <tr>\n",
       "      <td>1</td>\n",
       "      <td>not_repeat</td>\n",
       "      <td>34.133333</td>\n",
       "      <td>1.0</td>\n",
       "      <td>6.0</td>\n",
       "      <td>0.857143</td>\n",
       "      <td>1.0</td>\n",
       "      <td>0.000000</td>\n",
       "      <td>Afternoon</td>\n",
       "      <td>Tuesday</td>\n",
       "      <td>0</td>\n",
       "      <td>0</td>\n",
       "      <td>0</td>\n",
       "      <td>0</td>\n",
       "      <td>0</td>\n",
       "      <td>1</td>\n",
       "      <td>0</td>\n",
       "      <td>1</td>\n",
       "      <td>0</td>\n",
       "      <td>0</td>\n",
       "      <td>0</td>\n",
       "    </tr>\n",
       "    <tr>\n",
       "      <td>2</td>\n",
       "      <td>not_repeat</td>\n",
       "      <td>0.033333</td>\n",
       "      <td>0.0</td>\n",
       "      <td>0.0</td>\n",
       "      <td>0.000000</td>\n",
       "      <td>0.0</td>\n",
       "      <td>0.033333</td>\n",
       "      <td>Morning</td>\n",
       "      <td>Thursday</td>\n",
       "      <td>0</td>\n",
       "      <td>0</td>\n",
       "      <td>0</td>\n",
       "      <td>0</td>\n",
       "      <td>1</td>\n",
       "      <td>0</td>\n",
       "      <td>0</td>\n",
       "      <td>0</td>\n",
       "      <td>0</td>\n",
       "      <td>1</td>\n",
       "      <td>0</td>\n",
       "    </tr>\n",
       "    <tr>\n",
       "      <td>3</td>\n",
       "      <td>not_repeat</td>\n",
       "      <td>83.933333</td>\n",
       "      <td>3.0</td>\n",
       "      <td>0.0</td>\n",
       "      <td>0.000000</td>\n",
       "      <td>0.0</td>\n",
       "      <td>83.933333</td>\n",
       "      <td>Night</td>\n",
       "      <td>Friday</td>\n",
       "      <td>1</td>\n",
       "      <td>0</td>\n",
       "      <td>0</td>\n",
       "      <td>0</td>\n",
       "      <td>0</td>\n",
       "      <td>0</td>\n",
       "      <td>0</td>\n",
       "      <td>0</td>\n",
       "      <td>0</td>\n",
       "      <td>0</td>\n",
       "      <td>1</td>\n",
       "    </tr>\n",
       "    <tr>\n",
       "      <td>4</td>\n",
       "      <td>not_repeat</td>\n",
       "      <td>1.183333</td>\n",
       "      <td>5.0</td>\n",
       "      <td>1.0</td>\n",
       "      <td>0.000000</td>\n",
       "      <td>0.0</td>\n",
       "      <td>0.450000</td>\n",
       "      <td>Afternoon</td>\n",
       "      <td>Tuesday</td>\n",
       "      <td>0</td>\n",
       "      <td>0</td>\n",
       "      <td>0</td>\n",
       "      <td>0</td>\n",
       "      <td>0</td>\n",
       "      <td>1</td>\n",
       "      <td>0</td>\n",
       "      <td>1</td>\n",
       "      <td>0</td>\n",
       "      <td>0</td>\n",
       "      <td>0</td>\n",
       "    </tr>\n",
       "  </tbody>\n",
       "</table>\n",
       "</div>"
      ],
      "text/plain": [
       "   repeat_user  minutes_content_consumed  search_num  \\\n",
       "0  repeat_user                 49.400000         1.0   \n",
       "1   not_repeat                 34.133333         1.0   \n",
       "2   not_repeat                  0.033333         0.0   \n",
       "3   not_repeat                 83.933333         3.0   \n",
       "4   not_repeat                  1.183333         5.0   \n",
       "\n",
       "   distinct_number_of_videos_consumed  asset_completion_rate  \\\n",
       "0                                 7.0               0.888889   \n",
       "1                                 6.0               0.857143   \n",
       "2                                 0.0               0.000000   \n",
       "3                                 0.0               0.000000   \n",
       "4                                 1.0               0.000000   \n",
       "\n",
       "   course_completion_rate  first_asset_minutes_spent time_of_day day_of_week  \\\n",
       "0                     1.0                   0.866667       Night     Tuesday   \n",
       "1                     1.0                   0.000000   Afternoon     Tuesday   \n",
       "2                     0.0                   0.033333     Morning    Thursday   \n",
       "3                     0.0                  83.933333       Night      Friday   \n",
       "4                     0.0                   0.450000   Afternoon     Tuesday   \n",
       "\n",
       "   Friday  Monday  Saturday  Sunday  Thursday  Tuesday  Wednesday  Afternoon  \\\n",
       "0       0       0         0       0         0        1          0          0   \n",
       "1       0       0         0       0         0        1          0          1   \n",
       "2       0       0         0       0         1        0          0          0   \n",
       "3       1       0         0       0         0        0          0          0   \n",
       "4       0       0         0       0         0        1          0          1   \n",
       "\n",
       "   Evening  Morning  Night  \n",
       "0        0        0      1  \n",
       "1        0        0      0  \n",
       "2        0        1      0  \n",
       "3        0        0      1  \n",
       "4        0        0      0  "
      ]
     },
     "execution_count": 319,
     "metadata": {},
     "output_type": "execute_result"
    }
   ],
   "source": [
    "pd.DataFrame(new_lat_data).head()"
   ]
  },
  {
   "cell_type": "code",
   "execution_count": 169,
   "metadata": {},
   "outputs": [],
   "source": [
    "train_data = lat_data2.values"
   ]
  },
  {
   "cell_type": "code",
   "execution_count": 320,
   "metadata": {},
   "outputs": [],
   "source": [
    "X = new_lat_data.drop([\"repeat_user\", \"time_of_day\", \"day_of_week\"], axis=1)\n",
    "y = new_lat_data[\"repeat_user\"]"
   ]
  },
  {
   "cell_type": "code",
   "execution_count": 321,
   "metadata": {},
   "outputs": [],
   "source": [
    "from sklearn.cluster import AgglomerativeClustering \n",
    "from sklearn.preprocessing import StandardScaler, normalize\n",
    "from sklearn.metrics import silhouette_score \n",
    "import scipy.cluster.hierarchy as shc\n",
    "from sklearn.cluster import KMeans"
   ]
  },
  {
   "cell_type": "code",
   "execution_count": 323,
   "metadata": {},
   "outputs": [],
   "source": [
    "scaler = StandardScaler() \n",
    "X_scaled = scaler.fit_transform(X)\n",
    "X_normalized = normalize(X_scaled)"
   ]
  },
  {
   "cell_type": "code",
   "execution_count": 324,
   "metadata": {},
   "outputs": [
    {
     "data": {
      "text/html": [
       "<div>\n",
       "<style scoped>\n",
       "    .dataframe tbody tr th:only-of-type {\n",
       "        vertical-align: middle;\n",
       "    }\n",
       "\n",
       "    .dataframe tbody tr th {\n",
       "        vertical-align: top;\n",
       "    }\n",
       "\n",
       "    .dataframe thead th {\n",
       "        text-align: right;\n",
       "    }\n",
       "</style>\n",
       "<table border=\"1\" class=\"dataframe\">\n",
       "  <thead>\n",
       "    <tr style=\"text-align: right;\">\n",
       "      <th></th>\n",
       "      <th>0</th>\n",
       "      <th>1</th>\n",
       "      <th>2</th>\n",
       "      <th>3</th>\n",
       "      <th>4</th>\n",
       "      <th>5</th>\n",
       "      <th>6</th>\n",
       "      <th>7</th>\n",
       "      <th>8</th>\n",
       "      <th>9</th>\n",
       "      <th>10</th>\n",
       "      <th>11</th>\n",
       "      <th>12</th>\n",
       "      <th>13</th>\n",
       "      <th>14</th>\n",
       "      <th>15</th>\n",
       "      <th>16</th>\n",
       "    </tr>\n",
       "  </thead>\n",
       "  <tbody>\n",
       "    <tr>\n",
       "      <td>0</td>\n",
       "      <td>-0.011146</td>\n",
       "      <td>0.164713</td>\n",
       "      <td>0.071568</td>\n",
       "      <td>0.230536</td>\n",
       "      <td>0.480353</td>\n",
       "      <td>-0.037876</td>\n",
       "      <td>-0.105513</td>\n",
       "      <td>-0.120259</td>\n",
       "      <td>-0.044454</td>\n",
       "      <td>-0.037534</td>\n",
       "      <td>-0.112048</td>\n",
       "      <td>0.398180</td>\n",
       "      <td>-0.112518</td>\n",
       "      <td>-0.156515</td>\n",
       "      <td>-0.085245</td>\n",
       "      <td>-0.241892</td>\n",
       "      <td>0.615861</td>\n",
       "    </tr>\n",
       "    <tr>\n",
       "      <td>1</td>\n",
       "      <td>-0.045503</td>\n",
       "      <td>0.188359</td>\n",
       "      <td>0.041993</td>\n",
       "      <td>0.243018</td>\n",
       "      <td>0.549310</td>\n",
       "      <td>-0.045138</td>\n",
       "      <td>-0.120660</td>\n",
       "      <td>-0.137523</td>\n",
       "      <td>-0.050836</td>\n",
       "      <td>-0.042922</td>\n",
       "      <td>-0.128133</td>\n",
       "      <td>0.455341</td>\n",
       "      <td>-0.128671</td>\n",
       "      <td>0.468453</td>\n",
       "      <td>-0.097483</td>\n",
       "      <td>-0.276617</td>\n",
       "      <td>-0.119053</td>\n",
       "    </tr>\n",
       "    <tr>\n",
       "      <td>2</td>\n",
       "      <td>-0.128841</td>\n",
       "      <td>-0.067028</td>\n",
       "      <td>-0.213996</td>\n",
       "      <td>-0.340409</td>\n",
       "      <td>-0.178786</td>\n",
       "      <td>-0.048931</td>\n",
       "      <td>-0.131003</td>\n",
       "      <td>-0.149312</td>\n",
       "      <td>-0.055193</td>\n",
       "      <td>-0.046601</td>\n",
       "      <td>0.710452</td>\n",
       "      <td>-0.199922</td>\n",
       "      <td>-0.139701</td>\n",
       "      <td>-0.194326</td>\n",
       "      <td>-0.105839</td>\n",
       "      <td>0.329093</td>\n",
       "      <td>-0.129258</td>\n",
       "    </tr>\n",
       "    <tr>\n",
       "      <td>3</td>\n",
       "      <td>0.045147</td>\n",
       "      <td>0.506700</td>\n",
       "      <td>-0.145046</td>\n",
       "      <td>-0.230728</td>\n",
       "      <td>-0.121180</td>\n",
       "      <td>0.096782</td>\n",
       "      <td>0.511366</td>\n",
       "      <td>-0.101203</td>\n",
       "      <td>-0.037410</td>\n",
       "      <td>-0.031586</td>\n",
       "      <td>-0.094293</td>\n",
       "      <td>-0.135507</td>\n",
       "      <td>-0.094689</td>\n",
       "      <td>-0.131714</td>\n",
       "      <td>-0.071737</td>\n",
       "      <td>-0.203562</td>\n",
       "      <td>0.518272</td>\n",
       "    </tr>\n",
       "    <tr>\n",
       "      <td>4</td>\n",
       "      <td>-0.078764</td>\n",
       "      <td>0.805752</td>\n",
       "      <td>-0.106589</td>\n",
       "      <td>-0.212520</td>\n",
       "      <td>-0.111617</td>\n",
       "      <td>-0.029953</td>\n",
       "      <td>-0.081786</td>\n",
       "      <td>-0.093216</td>\n",
       "      <td>-0.034457</td>\n",
       "      <td>-0.029093</td>\n",
       "      <td>-0.086852</td>\n",
       "      <td>0.308640</td>\n",
       "      <td>-0.087216</td>\n",
       "      <td>0.317528</td>\n",
       "      <td>-0.066076</td>\n",
       "      <td>-0.187497</td>\n",
       "      <td>-0.080697</td>\n",
       "    </tr>\n",
       "  </tbody>\n",
       "</table>\n",
       "</div>"
      ],
      "text/plain": [
       "          0         1         2         3         4         5         6  \\\n",
       "0 -0.011146  0.164713  0.071568  0.230536  0.480353 -0.037876 -0.105513   \n",
       "1 -0.045503  0.188359  0.041993  0.243018  0.549310 -0.045138 -0.120660   \n",
       "2 -0.128841 -0.067028 -0.213996 -0.340409 -0.178786 -0.048931 -0.131003   \n",
       "3  0.045147  0.506700 -0.145046 -0.230728 -0.121180  0.096782  0.511366   \n",
       "4 -0.078764  0.805752 -0.106589 -0.212520 -0.111617 -0.029953 -0.081786   \n",
       "\n",
       "          7         8         9        10        11        12        13  \\\n",
       "0 -0.120259 -0.044454 -0.037534 -0.112048  0.398180 -0.112518 -0.156515   \n",
       "1 -0.137523 -0.050836 -0.042922 -0.128133  0.455341 -0.128671  0.468453   \n",
       "2 -0.149312 -0.055193 -0.046601  0.710452 -0.199922 -0.139701 -0.194326   \n",
       "3 -0.101203 -0.037410 -0.031586 -0.094293 -0.135507 -0.094689 -0.131714   \n",
       "4 -0.093216 -0.034457 -0.029093 -0.086852  0.308640 -0.087216  0.317528   \n",
       "\n",
       "         14        15        16  \n",
       "0 -0.085245 -0.241892  0.615861  \n",
       "1 -0.097483 -0.276617 -0.119053  \n",
       "2 -0.105839  0.329093 -0.129258  \n",
       "3 -0.071737 -0.203562  0.518272  \n",
       "4 -0.066076 -0.187497 -0.080697  "
      ]
     },
     "execution_count": 324,
     "metadata": {},
     "output_type": "execute_result"
    }
   ],
   "source": [
    "X_normalized = pd.DataFrame(X_normalized)\n",
    "X_normalized.head()"
   ]
  },
  {
   "cell_type": "code",
   "execution_count": 325,
   "metadata": {},
   "outputs": [
    {
     "data": {
      "text/html": [
       "<div>\n",
       "<style scoped>\n",
       "    .dataframe tbody tr th:only-of-type {\n",
       "        vertical-align: middle;\n",
       "    }\n",
       "\n",
       "    .dataframe tbody tr th {\n",
       "        vertical-align: top;\n",
       "    }\n",
       "\n",
       "    .dataframe thead th {\n",
       "        text-align: right;\n",
       "    }\n",
       "</style>\n",
       "<table border=\"1\" class=\"dataframe\">\n",
       "  <thead>\n",
       "    <tr style=\"text-align: right;\">\n",
       "      <th></th>\n",
       "      <th>minutes_content_consumed</th>\n",
       "      <th>search_num</th>\n",
       "      <th>distinct_number_of_videos_consumed</th>\n",
       "      <th>asset_completion_rate</th>\n",
       "      <th>course_completion_rate</th>\n",
       "      <th>first_asset_minutes_spent</th>\n",
       "      <th>Friday</th>\n",
       "      <th>Monday</th>\n",
       "      <th>Saturday</th>\n",
       "      <th>Sunday</th>\n",
       "      <th>Thursday</th>\n",
       "      <th>Tuesday</th>\n",
       "      <th>Wednesday</th>\n",
       "      <th>Afternoon</th>\n",
       "      <th>Evening</th>\n",
       "      <th>Morning</th>\n",
       "      <th>Night</th>\n",
       "    </tr>\n",
       "  </thead>\n",
       "  <tbody>\n",
       "    <tr>\n",
       "      <td>0</td>\n",
       "      <td>-0.011146</td>\n",
       "      <td>0.164713</td>\n",
       "      <td>0.071568</td>\n",
       "      <td>0.230536</td>\n",
       "      <td>0.480353</td>\n",
       "      <td>-0.037876</td>\n",
       "      <td>-0.105513</td>\n",
       "      <td>-0.120259</td>\n",
       "      <td>-0.044454</td>\n",
       "      <td>-0.037534</td>\n",
       "      <td>-0.112048</td>\n",
       "      <td>0.398180</td>\n",
       "      <td>-0.112518</td>\n",
       "      <td>-0.156515</td>\n",
       "      <td>-0.085245</td>\n",
       "      <td>-0.241892</td>\n",
       "      <td>0.615861</td>\n",
       "    </tr>\n",
       "    <tr>\n",
       "      <td>1</td>\n",
       "      <td>-0.045503</td>\n",
       "      <td>0.188359</td>\n",
       "      <td>0.041993</td>\n",
       "      <td>0.243018</td>\n",
       "      <td>0.549310</td>\n",
       "      <td>-0.045138</td>\n",
       "      <td>-0.120660</td>\n",
       "      <td>-0.137523</td>\n",
       "      <td>-0.050836</td>\n",
       "      <td>-0.042922</td>\n",
       "      <td>-0.128133</td>\n",
       "      <td>0.455341</td>\n",
       "      <td>-0.128671</td>\n",
       "      <td>0.468453</td>\n",
       "      <td>-0.097483</td>\n",
       "      <td>-0.276617</td>\n",
       "      <td>-0.119053</td>\n",
       "    </tr>\n",
       "    <tr>\n",
       "      <td>2</td>\n",
       "      <td>-0.128841</td>\n",
       "      <td>-0.067028</td>\n",
       "      <td>-0.213996</td>\n",
       "      <td>-0.340409</td>\n",
       "      <td>-0.178786</td>\n",
       "      <td>-0.048931</td>\n",
       "      <td>-0.131003</td>\n",
       "      <td>-0.149312</td>\n",
       "      <td>-0.055193</td>\n",
       "      <td>-0.046601</td>\n",
       "      <td>0.710452</td>\n",
       "      <td>-0.199922</td>\n",
       "      <td>-0.139701</td>\n",
       "      <td>-0.194326</td>\n",
       "      <td>-0.105839</td>\n",
       "      <td>0.329093</td>\n",
       "      <td>-0.129258</td>\n",
       "    </tr>\n",
       "    <tr>\n",
       "      <td>3</td>\n",
       "      <td>0.045147</td>\n",
       "      <td>0.506700</td>\n",
       "      <td>-0.145046</td>\n",
       "      <td>-0.230728</td>\n",
       "      <td>-0.121180</td>\n",
       "      <td>0.096782</td>\n",
       "      <td>0.511366</td>\n",
       "      <td>-0.101203</td>\n",
       "      <td>-0.037410</td>\n",
       "      <td>-0.031586</td>\n",
       "      <td>-0.094293</td>\n",
       "      <td>-0.135507</td>\n",
       "      <td>-0.094689</td>\n",
       "      <td>-0.131714</td>\n",
       "      <td>-0.071737</td>\n",
       "      <td>-0.203562</td>\n",
       "      <td>0.518272</td>\n",
       "    </tr>\n",
       "    <tr>\n",
       "      <td>4</td>\n",
       "      <td>-0.078764</td>\n",
       "      <td>0.805752</td>\n",
       "      <td>-0.106589</td>\n",
       "      <td>-0.212520</td>\n",
       "      <td>-0.111617</td>\n",
       "      <td>-0.029953</td>\n",
       "      <td>-0.081786</td>\n",
       "      <td>-0.093216</td>\n",
       "      <td>-0.034457</td>\n",
       "      <td>-0.029093</td>\n",
       "      <td>-0.086852</td>\n",
       "      <td>0.308640</td>\n",
       "      <td>-0.087216</td>\n",
       "      <td>0.317528</td>\n",
       "      <td>-0.066076</td>\n",
       "      <td>-0.187497</td>\n",
       "      <td>-0.080697</td>\n",
       "    </tr>\n",
       "  </tbody>\n",
       "</table>\n",
       "</div>"
      ],
      "text/plain": [
       "   minutes_content_consumed  search_num  distinct_number_of_videos_consumed  \\\n",
       "0                 -0.011146    0.164713                            0.071568   \n",
       "1                 -0.045503    0.188359                            0.041993   \n",
       "2                 -0.128841   -0.067028                           -0.213996   \n",
       "3                  0.045147    0.506700                           -0.145046   \n",
       "4                 -0.078764    0.805752                           -0.106589   \n",
       "\n",
       "   asset_completion_rate  course_completion_rate  first_asset_minutes_spent  \\\n",
       "0               0.230536                0.480353                  -0.037876   \n",
       "1               0.243018                0.549310                  -0.045138   \n",
       "2              -0.340409               -0.178786                  -0.048931   \n",
       "3              -0.230728               -0.121180                   0.096782   \n",
       "4              -0.212520               -0.111617                  -0.029953   \n",
       "\n",
       "     Friday    Monday  Saturday    Sunday  Thursday   Tuesday  Wednesday  \\\n",
       "0 -0.105513 -0.120259 -0.044454 -0.037534 -0.112048  0.398180  -0.112518   \n",
       "1 -0.120660 -0.137523 -0.050836 -0.042922 -0.128133  0.455341  -0.128671   \n",
       "2 -0.131003 -0.149312 -0.055193 -0.046601  0.710452 -0.199922  -0.139701   \n",
       "3  0.511366 -0.101203 -0.037410 -0.031586 -0.094293 -0.135507  -0.094689   \n",
       "4 -0.081786 -0.093216 -0.034457 -0.029093 -0.086852  0.308640  -0.087216   \n",
       "\n",
       "   Afternoon   Evening   Morning     Night  \n",
       "0  -0.156515 -0.085245 -0.241892  0.615861  \n",
       "1   0.468453 -0.097483 -0.276617 -0.119053  \n",
       "2  -0.194326 -0.105839  0.329093 -0.129258  \n",
       "3  -0.131714 -0.071737 -0.203562  0.518272  \n",
       "4   0.317528 -0.066076 -0.187497 -0.080697  "
      ]
     },
     "execution_count": 325,
     "metadata": {},
     "output_type": "execute_result"
    }
   ],
   "source": [
    "X_normalized.columns = X.columns\n",
    "X_normalized.head()"
   ]
  },
  {
   "cell_type": "code",
   "execution_count": null,
   "metadata": {},
   "outputs": [],
   "source": []
  },
  {
   "cell_type": "code",
   "execution_count": 328,
   "metadata": {},
   "outputs": [
    {
     "data": {
      "image/png": "[encoded data removed]",
      "text/plain": [
       "<Figure size 432x288 with 1 Axes>"
      ]
     },
     "metadata": {
      "needs_background": "light"
     },
     "output_type": "display_data"
    }
   ],
   "source": [
    "wcss = []\n",
    "for i in range(1, 10):\n",
    "#     kmeans = KMeans(n_clusters=i, init='k-means++', max_iter=300, n_init=10, random_state=0)\n",
    "    kmeans = KMeans(n_clusters=i)\n",
    "    kmeans.fit(X_normalized)\n",
    "    wcss.append(kmeans.inertia_)\n",
    "plt.plot(range(1, 10), wcss)\n",
    "plt.title('Elbow Method')\n",
    "plt.xlabel('Number of clusters')\n",
    "plt.ylabel('WCSS')\n",
    "plt.show()"
   ]
  },
  {
   "cell_type": "code",
   "execution_count": 241,
   "metadata": {},
   "outputs": [],
   "source": [
    "# ac2 = KMeans(n_clusters = 2) \n",
    "# ac3 = KMeans(n_clusters = 3) \n",
    "# ac4 = KMeans(n_clusters = 4) \n",
    "# ac5 = KMeans(n_clusters = 5) \n",
    "# ac6 = KMeans(n_clusters = 6) \n",
    "# ac7 = KMeans(n_clusters = 7) "
   ]
  },
  {
   "cell_type": "code",
   "execution_count": 242,
   "metadata": {},
   "outputs": [
    {
     "data": {
      "text/plain": [
       "[0.11248674027353263,\n",
       " 0.13734271499547637,\n",
       " 0.20598496736497865,\n",
       " 0.24707691072850643,\n",
       " 0.26131664177030095,\n",
       " 0.26862333095924296]"
      ]
     },
     "execution_count": 242,
     "metadata": {},
     "output_type": "execute_result"
    }
   ],
   "source": [
    "# k = [2, 3, 4, 5, 6, 7]\n",
    "  \n",
    "# # Appending the silhouette scores of the different models to the list \n",
    "# silhouette_scores = [] \n",
    "\n",
    "# silhouette_scores.append(silhouette_score(X_normalized, ac2.fit_predict(X_normalized))) \n",
    "# silhouette_scores.append(silhouette_score(X_normalized, ac3.fit_predict(X_normalized)))\n",
    "# silhouette_scores.append(silhouette_score(X_normalized, ac4.fit_predict(X_normalized)))\n",
    "# silhouette_scores.append(silhouette_score(X_normalized, ac5.fit_predict(X_normalized)))\n",
    "# silhouette_scores.append(silhouette_score(X_normalized, ac6.fit_predict(X_normalized)))\n",
    "# silhouette_scores.append(silhouette_score(X_normalized, ac7.fit_predict(X_normalized)))\n",
    "\n",
    "# silhouette_scores"
   ]
  },
  {
   "cell_type": "code",
   "execution_count": 243,
   "metadata": {},
   "outputs": [
    {
     "data": {
      "image/png": "[encoded data removed]",
      "text/plain": [
       "<Figure size 432x288 with 1 Axes>"
      ]
     },
     "metadata": {
      "needs_background": "light"
     },
     "output_type": "display_data"
    }
   ],
   "source": [
    "# # Plotting a bar graph to compare the results \n",
    "# plt.bar(k, silhouette_scores) \n",
    "# plt.xlabel('Number of clusters', fontsize = 20) \n",
    "# plt.ylabel('S(i)', fontsize = 20) \n",
    "# plt.show() "
   ]
  },
  {
   "cell_type": "code",
   "execution_count": 329,
   "metadata": {},
   "outputs": [
    {
     "data": {
      "text/plain": [
       "array([1, 1, 0, ..., 4, 4, 3])"
      ]
     },
     "execution_count": 329,
     "metadata": {},
     "output_type": "execute_result"
    }
   ],
   "source": [
    "Cluster = ac5.fit_predict(X_normalized)\n",
    "Cluster"
   ]
  },
  {
   "cell_type": "code",
   "execution_count": 330,
   "metadata": {},
   "outputs": [
    {
     "data": {
      "text/plain": [
       "array([2, 2, 1, ..., 5, 5, 4])"
      ]
     },
     "execution_count": 330,
     "metadata": {},
     "output_type": "execute_result"
    }
   ],
   "source": [
    "new_cluster  = Cluster + 1\n",
    "new_cluster"
   ]
  },
  {
   "cell_type": "code",
   "execution_count": 331,
   "metadata": {},
   "outputs": [],
   "source": [
    "X_normalized_array = X_normalized.values"
   ]
  },
  {
   "cell_type": "code",
   "execution_count": 332,
   "metadata": {},
   "outputs": [],
   "source": [
    "new_lat_data['Cluster'] = new_cluster"
   ]
  },
  {
   "cell_type": "code",
   "execution_count": 334,
   "metadata": {},
   "outputs": [
    {
     "data": {
      "text/html": [
       "<div>\n",
       "<style scoped>\n",
       "    .dataframe tbody tr th:only-of-type {\n",
       "        vertical-align: middle;\n",
       "    }\n",
       "\n",
       "    .dataframe tbody tr th {\n",
       "        vertical-align: top;\n",
       "    }\n",
       "\n",
       "    .dataframe thead th {\n",
       "        text-align: right;\n",
       "    }\n",
       "</style>\n",
       "<table border=\"1\" class=\"dataframe\">\n",
       "  <thead>\n",
       "    <tr style=\"text-align: right;\">\n",
       "      <th></th>\n",
       "      <th>repeat_user</th>\n",
       "      <th>minutes_content_consumed</th>\n",
       "      <th>search_num</th>\n",
       "      <th>distinct_number_of_videos_consumed</th>\n",
       "      <th>asset_completion_rate</th>\n",
       "      <th>course_completion_rate</th>\n",
       "      <th>first_asset_minutes_spent</th>\n",
       "      <th>time_of_day</th>\n",
       "      <th>day_of_week</th>\n",
       "      <th>Friday</th>\n",
       "      <th>...</th>\n",
       "      <th>Saturday</th>\n",
       "      <th>Sunday</th>\n",
       "      <th>Thursday</th>\n",
       "      <th>Tuesday</th>\n",
       "      <th>Wednesday</th>\n",
       "      <th>Afternoon</th>\n",
       "      <th>Evening</th>\n",
       "      <th>Morning</th>\n",
       "      <th>Night</th>\n",
       "      <th>Cluster</th>\n",
       "    </tr>\n",
       "  </thead>\n",
       "  <tbody>\n",
       "    <tr>\n",
       "      <td>0</td>\n",
       "      <td>repeat_user</td>\n",
       "      <td>49.400000</td>\n",
       "      <td>1.0</td>\n",
       "      <td>7.0</td>\n",
       "      <td>0.888889</td>\n",
       "      <td>1.0</td>\n",
       "      <td>0.866667</td>\n",
       "      <td>Night</td>\n",
       "      <td>Tuesday</td>\n",
       "      <td>0</td>\n",
       "      <td>...</td>\n",
       "      <td>0</td>\n",
       "      <td>0</td>\n",
       "      <td>0</td>\n",
       "      <td>1</td>\n",
       "      <td>0</td>\n",
       "      <td>0</td>\n",
       "      <td>0</td>\n",
       "      <td>0</td>\n",
       "      <td>1</td>\n",
       "      <td>2</td>\n",
       "    </tr>\n",
       "    <tr>\n",
       "      <td>1</td>\n",
       "      <td>not_repeat</td>\n",
       "      <td>34.133333</td>\n",
       "      <td>1.0</td>\n",
       "      <td>6.0</td>\n",
       "      <td>0.857143</td>\n",
       "      <td>1.0</td>\n",
       "      <td>0.000000</td>\n",
       "      <td>Afternoon</td>\n",
       "      <td>Tuesday</td>\n",
       "      <td>0</td>\n",
       "      <td>...</td>\n",
       "      <td>0</td>\n",
       "      <td>0</td>\n",
       "      <td>0</td>\n",
       "      <td>1</td>\n",
       "      <td>0</td>\n",
       "      <td>1</td>\n",
       "      <td>0</td>\n",
       "      <td>0</td>\n",
       "      <td>0</td>\n",
       "      <td>2</td>\n",
       "    </tr>\n",
       "    <tr>\n",
       "      <td>2</td>\n",
       "      <td>not_repeat</td>\n",
       "      <td>0.033333</td>\n",
       "      <td>0.0</td>\n",
       "      <td>0.0</td>\n",
       "      <td>0.000000</td>\n",
       "      <td>0.0</td>\n",
       "      <td>0.033333</td>\n",
       "      <td>Morning</td>\n",
       "      <td>Thursday</td>\n",
       "      <td>0</td>\n",
       "      <td>...</td>\n",
       "      <td>0</td>\n",
       "      <td>0</td>\n",
       "      <td>1</td>\n",
       "      <td>0</td>\n",
       "      <td>0</td>\n",
       "      <td>0</td>\n",
       "      <td>0</td>\n",
       "      <td>1</td>\n",
       "      <td>0</td>\n",
       "      <td>1</td>\n",
       "    </tr>\n",
       "    <tr>\n",
       "      <td>3</td>\n",
       "      <td>not_repeat</td>\n",
       "      <td>83.933333</td>\n",
       "      <td>3.0</td>\n",
       "      <td>0.0</td>\n",
       "      <td>0.000000</td>\n",
       "      <td>0.0</td>\n",
       "      <td>83.933333</td>\n",
       "      <td>Night</td>\n",
       "      <td>Friday</td>\n",
       "      <td>1</td>\n",
       "      <td>...</td>\n",
       "      <td>0</td>\n",
       "      <td>0</td>\n",
       "      <td>0</td>\n",
       "      <td>0</td>\n",
       "      <td>0</td>\n",
       "      <td>0</td>\n",
       "      <td>0</td>\n",
       "      <td>0</td>\n",
       "      <td>1</td>\n",
       "      <td>4</td>\n",
       "    </tr>\n",
       "    <tr>\n",
       "      <td>4</td>\n",
       "      <td>not_repeat</td>\n",
       "      <td>1.183333</td>\n",
       "      <td>5.0</td>\n",
       "      <td>1.0</td>\n",
       "      <td>0.000000</td>\n",
       "      <td>0.0</td>\n",
       "      <td>0.450000</td>\n",
       "      <td>Afternoon</td>\n",
       "      <td>Tuesday</td>\n",
       "      <td>0</td>\n",
       "      <td>...</td>\n",
       "      <td>0</td>\n",
       "      <td>0</td>\n",
       "      <td>0</td>\n",
       "      <td>1</td>\n",
       "      <td>0</td>\n",
       "      <td>1</td>\n",
       "      <td>0</td>\n",
       "      <td>0</td>\n",
       "      <td>0</td>\n",
       "      <td>2</td>\n",
       "    </tr>\n",
       "  </tbody>\n",
       "</table>\n",
       "<p>5 rows × 21 columns</p>\n",
       "</div>"
      ],
      "text/plain": [
       "   repeat_user  minutes_content_consumed  search_num  \\\n",
       "0  repeat_user                 49.400000         1.0   \n",
       "1   not_repeat                 34.133333         1.0   \n",
       "2   not_repeat                  0.033333         0.0   \n",
       "3   not_repeat                 83.933333         3.0   \n",
       "4   not_repeat                  1.183333         5.0   \n",
       "\n",
       "   distinct_number_of_videos_consumed  asset_completion_rate  \\\n",
       "0                                 7.0               0.888889   \n",
       "1                                 6.0               0.857143   \n",
       "2                                 0.0               0.000000   \n",
       "3                                 0.0               0.000000   \n",
       "4                                 1.0               0.000000   \n",
       "\n",
       "   course_completion_rate  first_asset_minutes_spent time_of_day day_of_week  \\\n",
       "0                     1.0                   0.866667       Night     Tuesday   \n",
       "1                     1.0                   0.000000   Afternoon     Tuesday   \n",
       "2                     0.0                   0.033333     Morning    Thursday   \n",
       "3                     0.0                  83.933333       Night      Friday   \n",
       "4                     0.0                   0.450000   Afternoon     Tuesday   \n",
       "\n",
       "   Friday  ...  Saturday  Sunday  Thursday  Tuesday  Wednesday  Afternoon  \\\n",
       "0       0  ...         0       0         0        1          0          0   \n",
       "1       0  ...         0       0         0        1          0          1   \n",
       "2       0  ...         0       0         1        0          0          0   \n",
       "3       1  ...         0       0         0        0          0          0   \n",
       "4       0  ...         0       0         0        1          0          1   \n",
       "\n",
       "   Evening  Morning  Night  Cluster  \n",
       "0        0        0      1        2  \n",
       "1        0        0      0        2  \n",
       "2        0        1      0        1  \n",
       "3        0        0      1        4  \n",
       "4        0        0      0        2  \n",
       "\n",
       "[5 rows x 21 columns]"
      ]
     },
     "execution_count": 334,
     "metadata": {},
     "output_type": "execute_result"
    }
   ],
   "source": [
    "new_lat_data.head()"
   ]
  },
  {
   "cell_type": "markdown",
   "metadata": {},
   "source": [
    "### Splitting the i/p and o/p variables for creating the prediction model"
   ]
  },
  {
   "cell_type": "code",
   "execution_count": 341,
   "metadata": {},
   "outputs": [],
   "source": [
    "X = new_lat_data.drop([\"repeat_user\",\"time_of_day\", \"day_of_week\"], axis=1)\n",
    "y = new_lat_data[\"repeat_user\"]"
   ]
  },
  {
   "cell_type": "code",
   "execution_count": 342,
   "metadata": {},
   "outputs": [],
   "source": [
    "X_train, X_test, y_train, y_test = train_test_split(X, y, test_size=0.30, random_state=42)"
   ]
  },
  {
   "cell_type": "markdown",
   "metadata": {},
   "source": [
    "### Random Forest"
   ]
  },
  {
   "cell_type": "code",
   "execution_count": 354,
   "metadata": {},
   "outputs": [
    {
     "name": "stdout",
     "output_type": "stream",
     "text": [
      "RF Accuracy = 0.61\n",
      "[[5395 1974]\n",
      " [3418 3213]]\n",
      "              precision    recall  f1-score   support\n",
      "\n",
      "  not_repeat       0.61      0.73      0.67      7369\n",
      " repeat_user       0.62      0.48      0.54      6631\n",
      "\n",
      "    accuracy                           0.61     14000\n",
      "   macro avg       0.62      0.61      0.61     14000\n",
      "weighted avg       0.62      0.61      0.61     14000\n",
      "\n"
     ]
    }
   ],
   "source": [
    "RandomForest2 = RandomForestClassifier(n_estimators=800, \n",
    "                                      max_depth=4, \n",
    "                                      criterion=\"gini\", \n",
    "                                      bootstrap=True, )\n",
    "\n",
    "RandomForest2.fit(X_train,y_train)\n",
    "predict_y_train = RandomForest2.predict(X_train)\n",
    "\n",
    "confusion_matrix(y_train, predict_y_train)\n",
    "\n",
    "print (\"RF Accuracy = %.2f\" % (accuracy_score(y_train, predict_y_train)))\n",
    "print(confusion_matrix(y_train, predict_y_train))\n",
    "print(classification_report(y_train, predict_y_train))"
   ]
  },
  {
   "cell_type": "code",
   "execution_count": 352,
   "metadata": {},
   "outputs": [
    {
     "name": "stdout",
     "output_type": "stream",
     "text": [
      "Regression Accuracy = 0.62\n",
      "[[2376  863]\n",
      " [1421 1340]]\n",
      "              precision    recall  f1-score   support\n",
      "\n",
      "  not_repeat       0.63      0.73      0.68      3239\n",
      " repeat_user       0.61      0.49      0.54      2761\n",
      "\n",
      "    accuracy                           0.62      6000\n",
      "   macro avg       0.62      0.61      0.61      6000\n",
      "weighted avg       0.62      0.62      0.61      6000\n",
      "\n"
     ]
    }
   ],
   "source": [
    "predict_y_test = RandomForest2.predict(X_test)\n",
    "\n",
    "print (\"Regression Accuracy = %.2f\" % (accuracy_score(y_test, predict_y_test)))\n",
    "print(confusion_matrix(y_test, predict_y_test))\n",
    "print(classification_report(y_test, predict_y_test))"
   ]
  },
  {
   "cell_type": "code",
   "execution_count": 349,
   "metadata": {},
   "outputs": [
    {
     "data": {
      "text/plain": [
       "array([0.26262726, 0.31447627, 0.14727939, 0.10755128, 0.05124315,\n",
       "       0.08325337, 0.00166398, 0.00153398, 0.00279481, 0.00093761,\n",
       "       0.00129179, 0.0011961 , 0.00263668, 0.00250957, 0.00231437,\n",
       "       0.00360006, 0.00699851, 0.00609182])"
      ]
     },
     "execution_count": 349,
     "metadata": {},
     "output_type": "execute_result"
    }
   ],
   "source": [
    "RandomForest2.feature_importances_"
   ]
  },
  {
   "cell_type": "markdown",
   "metadata": {},
   "source": [
    "### Baysian Classifier"
   ]
  },
  {
   "cell_type": "code",
   "execution_count": 345,
   "metadata": {},
   "outputs": [
    {
     "name": "stdout",
     "output_type": "stream",
     "text": [
      "Naive Bayes Accuracy = 0.57\n",
      "[[6875  494]\n",
      " [5550 1081]]\n",
      "              precision    recall  f1-score   support\n",
      "\n",
      "  not_repeat       0.55      0.93      0.69      7369\n",
      " repeat_user       0.69      0.16      0.26      6631\n",
      "\n",
      "    accuracy                           0.57     14000\n",
      "   macro avg       0.62      0.55      0.48     14000\n",
      "weighted avg       0.62      0.57      0.49     14000\n",
      "\n"
     ]
    }
   ],
   "source": [
    "naive_b = GaussianNB()\n",
    "naive_b = naive_b.fit(X_train, y_train)\n",
    "\n",
    "\n",
    "predict_y_train = naive_b.predict(X_train)\n",
    "confusion_matrix(y_train, predict_y_train)\n",
    "\n",
    "print (\"Naive Bayes Accuracy = %.2f\" % (accuracy_score(y_train, predict_y_train)))\n",
    "print(confusion_matrix(y_train, predict_y_train))\n",
    "print(classification_report(y_train, predict_y_train))"
   ]
  },
  {
   "cell_type": "code",
   "execution_count": 346,
   "metadata": {},
   "outputs": [
    {
     "name": "stdout",
     "output_type": "stream",
     "text": [
      "Naive Bayes Accuracy = 0.58\n",
      "[[3030  209]\n",
      " [2295  466]]\n",
      "              precision    recall  f1-score   support\n",
      "\n",
      "  not_repeat       0.57      0.94      0.71      3239\n",
      " repeat_user       0.69      0.17      0.27      2761\n",
      "\n",
      "    accuracy                           0.58      6000\n",
      "   macro avg       0.63      0.55      0.49      6000\n",
      "weighted avg       0.62      0.58      0.51      6000\n",
      "\n"
     ]
    }
   ],
   "source": [
    "predict_y_test = naive_b.predict(X_test)\n",
    "\n",
    "print (\"Naive Bayes Accuracy = %.2f\" % (accuracy_score(y_test, predict_y_test)))\n",
    "print(confusion_matrix(y_test, predict_y_test))\n",
    "print(classification_report(y_test, predict_y_test))"
   ]
  },
  {
   "cell_type": "markdown",
   "metadata": {},
   "source": [
    "### Logistic Regression"
   ]
  },
  {
   "cell_type": "code",
   "execution_count": 347,
   "metadata": {},
   "outputs": [
    {
     "name": "stdout",
     "output_type": "stream",
     "text": [
      "Regression Accuracy = 0.60\n",
      "[[5708 1661]\n",
      " [3905 2726]]\n",
      "              precision    recall  f1-score   support\n",
      "\n",
      "  not_repeat       0.59      0.77      0.67      7369\n",
      " repeat_user       0.62      0.41      0.49      6631\n",
      "\n",
      "    accuracy                           0.60     14000\n",
      "   macro avg       0.61      0.59      0.58     14000\n",
      "weighted avg       0.61      0.60      0.59     14000\n",
      "\n"
     ]
    }
   ],
   "source": [
    "logreg = LogisticRegression()\n",
    "logreg.fit(X_train, y_train)\n",
    "\n",
    "predict_y_train = logreg.predict(X_train)\n",
    "confusion_matrix(y_train, predict_y_train)\n",
    "\n",
    "print (\"Regression Accuracy = %.2f\" % (accuracy_score(y_train, predict_y_train)))\n",
    "print(confusion_matrix(y_train, predict_y_train))\n",
    "print(classification_report(y_train, predict_y_train))"
   ]
  },
  {
   "cell_type": "code",
   "execution_count": 348,
   "metadata": {},
   "outputs": [
    {
     "name": "stdout",
     "output_type": "stream",
     "text": [
      "Regression Accuracy = 0.61\n",
      "[[2494  745]\n",
      " [1603 1158]]\n",
      "              precision    recall  f1-score   support\n",
      "\n",
      "  not_repeat       0.61      0.77      0.68      3239\n",
      " repeat_user       0.61      0.42      0.50      2761\n",
      "\n",
      "    accuracy                           0.61      6000\n",
      "   macro avg       0.61      0.59      0.59      6000\n",
      "weighted avg       0.61      0.61      0.60      6000\n",
      "\n"
     ]
    }
   ],
   "source": [
    "predict_y_test = logreg.predict(X_test)\n",
    "\n",
    "print (\"Regression Accuracy = %.2f\" % (accuracy_score(y_test, predict_y_test)))\n",
    "print(confusion_matrix(y_test, predict_y_test))\n",
    "print(classification_report(y_test, predict_y_test))"
   ]
  },
  {
   "cell_type": "markdown",
   "metadata": {},
   "source": [
    "## Bayesian Classification Raw Model"
   ]
  },
  {
   "cell_type": "code",
   "execution_count": 213,
   "metadata": {},
   "outputs": [
    {
     "name": "stdout",
     "output_type": "stream",
     "text": [
      "Naive Bayes Accuracy = 0.57\n",
      "[[6884  485]\n",
      " [5566 1065]]\n",
      "              precision    recall  f1-score   support\n",
      "\n",
      "  not_repeat       0.55      0.93      0.69      7369\n",
      " repeat_user       0.69      0.16      0.26      6631\n",
      "\n",
      "    accuracy                           0.57     14000\n",
      "   macro avg       0.62      0.55      0.48     14000\n",
      "weighted avg       0.62      0.57      0.49     14000\n",
      "\n"
     ]
    }
   ],
   "source": [
    "naive_b = GaussianNB()\n",
    "naive_b = naive_b.fit(X_train, y_train)\n",
    "\n",
    "\n",
    "predict_y_train = naive_b.predict(X_train)\n",
    "confusion_matrix(y_train, predict_y_train)\n",
    "\n",
    "print (\"Naive Bayes Accuracy = %.2f\" % (accuracy_score(y_train, predict_y_train)))\n",
    "print(confusion_matrix(y_train, predict_y_train))\n",
    "print(classification_report(y_train, predict_y_train))"
   ]
  },
  {
   "cell_type": "code",
   "execution_count": 217,
   "metadata": {},
   "outputs": [
    {
     "name": "stdout",
     "output_type": "stream",
     "text": [
      "Naive Bayes Accuracy = 0.58\n",
      "[[3032  207]\n",
      " [2303  458]]\n",
      "              precision    recall  f1-score   support\n",
      "\n",
      "  not_repeat       0.57      0.94      0.71      3239\n",
      " repeat_user       0.69      0.17      0.27      2761\n",
      "\n",
      "    accuracy                           0.58      6000\n",
      "   macro avg       0.63      0.55      0.49      6000\n",
      "weighted avg       0.62      0.58      0.50      6000\n",
      "\n"
     ]
    }
   ],
   "source": [
    "predict_y_test = naive_b.predict(X_test)\n",
    "\n",
    "print (\"Naive Bayes Accuracy = %.2f\" % (accuracy_score(y_test, predict_y_test)))\n",
    "print(confusion_matrix(y_test, predict_y_test))\n",
    "print(classification_report(y_test, predict_y_test))"
   ]
  },
  {
   "cell_type": "markdown",
   "metadata": {},
   "source": [
    "## Logistic Regression - Raw Model"
   ]
  },
  {
   "cell_type": "code",
   "execution_count": 215,
   "metadata": {},
   "outputs": [
    {
     "name": "stdout",
     "output_type": "stream",
     "text": [
      "Regression Accuracy = 0.60\n",
      "[[5651 1718]\n",
      " [3834 2797]]\n",
      "              precision    recall  f1-score   support\n",
      "\n",
      "  not_repeat       0.60      0.77      0.67      7369\n",
      " repeat_user       0.62      0.42      0.50      6631\n",
      "\n",
      "    accuracy                           0.60     14000\n",
      "   macro avg       0.61      0.59      0.59     14000\n",
      "weighted avg       0.61      0.60      0.59     14000\n",
      "\n"
     ]
    }
   ],
   "source": [
    "## Logistic Regression - Raw Model\n",
    "logreg = LogisticRegression()\n",
    "logreg.fit(X_train, y_train)\n",
    "\n",
    "predict_y_train = logreg.predict(X_train)\n",
    "confusion_matrix(y_train, predict_y_train)\n",
    "\n",
    "print (\"Regression Accuracy = %.2f\" % (accuracy_score(y_train, predict_y_train)))\n",
    "print(confusion_matrix(y_train, predict_y_train))\n",
    "print(classification_report(y_train, predict_y_train))\n",
    "\n",
    "\n",
    "predict_y_test = logreg.predict(X_test)\n",
    "\n",
    "print (\"Regression Accuracy = %.2f\" % (accuracy_score(y_test, predict_y_test)))\n",
    "print(confusion_matrix(y_test, predict_y_test))\n",
    "print(classification_report(y_test, predict_y_test))"
   ]
  },
  {
   "cell_type": "code",
   "execution_count": 218,
   "metadata": {},
   "outputs": [
    {
     "name": "stdout",
     "output_type": "stream",
     "text": [
      "Regression Accuracy = 0.61\n",
      "[[2496  743]\n",
      " [1577 1184]]\n",
      "              precision    recall  f1-score   support\n",
      "\n",
      "  not_repeat       0.61      0.77      0.68      3239\n",
      " repeat_user       0.61      0.43      0.51      2761\n",
      "\n",
      "    accuracy                           0.61      6000\n",
      "   macro avg       0.61      0.60      0.59      6000\n",
      "weighted avg       0.61      0.61      0.60      6000\n",
      "\n"
     ]
    }
   ],
   "source": [
    "predict_y_test = logreg.predict(X_test)\n",
    "\n",
    "print (\"Regression Accuracy = %.2f\" % (accuracy_score(y_test, predict_y_test)))\n",
    "print(confusion_matrix(y_test, predict_y_test))\n",
    "print(classification_report(y_test, predict_y_test))"
   ]
  },
  {
   "cell_type": "markdown",
   "metadata": {},
   "source": [
    "## Random Forest - Raw Model"
   ]
  },
  {
   "cell_type": "code",
   "execution_count": 191,
   "metadata": {},
   "outputs": [
    {
     "name": "stdout",
     "output_type": "stream",
     "text": [
      "RF Accuracy = 0.61\n",
      "[[5512 1857]\n",
      " [3539 3092]]\n",
      "              precision    recall  f1-score   support\n",
      "\n",
      "  not_repeat       0.61      0.75      0.67      7369\n",
      " repeat_user       0.62      0.47      0.53      6631\n",
      "\n",
      "    accuracy                           0.61     14000\n",
      "   macro avg       0.62      0.61      0.60     14000\n",
      "weighted avg       0.62      0.61      0.61     14000\n",
      "\n"
     ]
    }
   ],
   "source": [
    "RandomForest2 = RandomForestClassifier(n_estimators=500, \n",
    "                                      max_depth=4, \n",
    "                                      criterion=\"gini\", \n",
    "                                      bootstrap=True, )\n",
    "\n",
    "RandomForest2.fit(X_train,y_train)\n",
    "predict_y_train = RandomForest2.predict(X_train)\n",
    "\n",
    "confusion_matrix(y_train, predict_y_train)\n",
    "\n",
    "print (\"RF Accuracy = %.2f\" % (accuracy_score(y_train, predict_y_train)))\n",
    "print(confusion_matrix(y_train, predict_y_train))\n",
    "print(classification_report(y_train, predict_y_train))"
   ]
  },
  {
   "cell_type": "code",
   "execution_count": 219,
   "metadata": {},
   "outputs": [
    {
     "name": "stdout",
     "output_type": "stream",
     "text": [
      "Regression Accuracy = 0.62\n",
      "[[2414  825]\n",
      " [1458 1303]]\n",
      "              precision    recall  f1-score   support\n",
      "\n",
      "  not_repeat       0.62      0.75      0.68      3239\n",
      " repeat_user       0.61      0.47      0.53      2761\n",
      "\n",
      "    accuracy                           0.62      6000\n",
      "   macro avg       0.62      0.61      0.61      6000\n",
      "weighted avg       0.62      0.62      0.61      6000\n",
      "\n"
     ]
    }
   ],
   "source": [
    "predict_y_test = RandomForest2.predict(X_test)\n",
    "\n",
    "print (\"Regression Accuracy = %.2f\" % (accuracy_score(y_test, predict_y_test)))\n",
    "print(confusion_matrix(y_test, predict_y_test))\n",
    "print(classification_report(y_test, predict_y_test))"
   ]
  },
  {
   "cell_type": "markdown",
   "metadata": {},
   "source": [
    "### Finding the Significant features from RF model to build a new model"
   ]
  },
  {
   "cell_type": "code",
   "execution_count": 223,
   "metadata": {},
   "outputs": [
    {
     "data": {
      "text/plain": [
       "array([0.26573163, 0.33054961, 0.12631426, 0.10553539, 0.06025801,\n",
       "       0.08214183, 0.00192006, 0.00156702, 0.00258341, 0.00083437,\n",
       "       0.00130802, 0.00306818, 0.00337175, 0.00267807, 0.00275391,\n",
       "       0.00246378, 0.00692072])"
      ]
     },
     "execution_count": 223,
     "metadata": {},
     "output_type": "execute_result"
    }
   ],
   "source": [
    "RandomForest2.feature_importances_"
   ]
  },
  {
   "cell_type": "markdown",
   "metadata": {},
   "source": [
    "- Based on the above feature importance removing all the features which has less than 10% importance"
   ]
  },
  {
   "cell_type": "code",
   "execution_count": 224,
   "metadata": {},
   "outputs": [],
   "source": [
    "X2 = lat_data2.drop([\"repeat_user\", \"time_of_day\", \"day_of_week\", 'course_completion_rate', 'first_asset_minutes_spent', 'Friday',\n",
    "       'Monday', 'Saturday', 'Sunday', 'Thursday', 'Tuesday', 'Wednesday',\n",
    "       'Afternoon', 'Evening', 'Morning', 'Night'], axis=1)\n",
    "y2 = lat_data2[\"repeat_user\"]"
   ]
  },
  {
   "cell_type": "code",
   "execution_count": 225,
   "metadata": {},
   "outputs": [],
   "source": [
    "X_train, X_test, y_train, y_test = train_test_split(X2, y2, test_size=0.30, random_state=42)"
   ]
  },
  {
   "cell_type": "markdown",
   "metadata": {},
   "source": [
    "### Building RF again with reduced features"
   ]
  },
  {
   "cell_type": "code",
   "execution_count": 227,
   "metadata": {},
   "outputs": [
    {
     "name": "stdout",
     "output_type": "stream",
     "text": [
      "RF Accuracy = 0.61\n",
      "[[5340 2029]\n",
      " [3464 3167]]\n",
      "              precision    recall  f1-score   support\n",
      "\n",
      "  not_repeat       0.61      0.72      0.66      7369\n",
      " repeat_user       0.61      0.48      0.54      6631\n",
      "\n",
      "    accuracy                           0.61     14000\n",
      "   macro avg       0.61      0.60      0.60     14000\n",
      "weighted avg       0.61      0.61      0.60     14000\n",
      "\n"
     ]
    }
   ],
   "source": [
    "RandomForest3 = RandomForestClassifier(n_estimators=800, \n",
    "                                      max_depth=4, \n",
    "                                      criterion=\"gini\", \n",
    "                                      bootstrap=True, )\n",
    "\n",
    "RandomForest3.fit(X_train,y_train)\n",
    "predict_y_train = RandomForest3.predict(X_train)\n",
    "\n",
    "confusion_matrix(y_train, predict_y_train)\n",
    "\n",
    "print (\"RF Accuracy = %.2f\" % (accuracy_score(y_train, predict_y_train)))\n",
    "print(confusion_matrix(y_train, predict_y_train))\n",
    "print(classification_report(y_train, predict_y_train))"
   ]
  },
  {
   "cell_type": "code",
   "execution_count": 228,
   "metadata": {},
   "outputs": [
    {
     "name": "stdout",
     "output_type": "stream",
     "text": [
      "Regression Accuracy = 0.61\n",
      "[[2334  905]\n",
      " [1432 1329]]\n",
      "              precision    recall  f1-score   support\n",
      "\n",
      "  not_repeat       0.62      0.72      0.67      3239\n",
      " repeat_user       0.59      0.48      0.53      2761\n",
      "\n",
      "    accuracy                           0.61      6000\n",
      "   macro avg       0.61      0.60      0.60      6000\n",
      "weighted avg       0.61      0.61      0.60      6000\n",
      "\n"
     ]
    }
   ],
   "source": [
    "predict_y_test = RandomForest3.predict(X_test)\n",
    "\n",
    "print (\"Regression Accuracy = %.2f\" % (accuracy_score(y_test, predict_y_test)))\n",
    "print(confusion_matrix(y_test, predict_y_test))\n",
    "print(classification_report(y_test, predict_y_test))"
   ]
  },
  {
   "cell_type": "markdown",
   "metadata": {},
   "source": [
    "### Applying KNN to identify if there are any clusters being formed"
   ]
  },
  {
   "cell_type": "code",
   "execution_count": 254,
   "metadata": {},
   "outputs": [
    {
     "data": {
      "text/html": [
       "<div>\n",
       "<style scoped>\n",
       "    .dataframe tbody tr th:only-of-type {\n",
       "        vertical-align: middle;\n",
       "    }\n",
       "\n",
       "    .dataframe tbody tr th {\n",
       "        vertical-align: top;\n",
       "    }\n",
       "\n",
       "    .dataframe thead th {\n",
       "        text-align: right;\n",
       "    }\n",
       "</style>\n",
       "<table border=\"1\" class=\"dataframe\">\n",
       "  <thead>\n",
       "    <tr style=\"text-align: right;\">\n",
       "      <th></th>\n",
       "      <th>repeat_user</th>\n",
       "      <th>minutes_content_consumed</th>\n",
       "      <th>search_num</th>\n",
       "      <th>distinct_number_of_videos_consumed</th>\n",
       "      <th>asset_completion_rate</th>\n",
       "      <th>course_completion_rate</th>\n",
       "      <th>first_asset_minutes_spent</th>\n",
       "      <th>time_of_day</th>\n",
       "      <th>day_of_week</th>\n",
       "      <th>Friday</th>\n",
       "      <th>...</th>\n",
       "      <th>Saturday</th>\n",
       "      <th>Sunday</th>\n",
       "      <th>Thursday</th>\n",
       "      <th>Tuesday</th>\n",
       "      <th>Wednesday</th>\n",
       "      <th>Afternoon</th>\n",
       "      <th>Evening</th>\n",
       "      <th>Morning</th>\n",
       "      <th>Night</th>\n",
       "      <th>Cluster</th>\n",
       "    </tr>\n",
       "  </thead>\n",
       "  <tbody>\n",
       "    <tr>\n",
       "      <td>0</td>\n",
       "      <td>repeat_user</td>\n",
       "      <td>49.400000</td>\n",
       "      <td>1.0</td>\n",
       "      <td>7.0</td>\n",
       "      <td>0.888889</td>\n",
       "      <td>1.00000</td>\n",
       "      <td>0.866667</td>\n",
       "      <td>Night</td>\n",
       "      <td>Tuesday</td>\n",
       "      <td>0</td>\n",
       "      <td>...</td>\n",
       "      <td>0</td>\n",
       "      <td>0</td>\n",
       "      <td>0</td>\n",
       "      <td>1</td>\n",
       "      <td>0</td>\n",
       "      <td>0</td>\n",
       "      <td>0</td>\n",
       "      <td>0</td>\n",
       "      <td>1</td>\n",
       "      <td>1</td>\n",
       "    </tr>\n",
       "    <tr>\n",
       "      <td>1</td>\n",
       "      <td>not_repeat</td>\n",
       "      <td>34.133333</td>\n",
       "      <td>1.0</td>\n",
       "      <td>6.0</td>\n",
       "      <td>0.857143</td>\n",
       "      <td>1.00000</td>\n",
       "      <td>0.000000</td>\n",
       "      <td>Afternoon</td>\n",
       "      <td>Tuesday</td>\n",
       "      <td>0</td>\n",
       "      <td>...</td>\n",
       "      <td>0</td>\n",
       "      <td>0</td>\n",
       "      <td>0</td>\n",
       "      <td>1</td>\n",
       "      <td>0</td>\n",
       "      <td>1</td>\n",
       "      <td>0</td>\n",
       "      <td>0</td>\n",
       "      <td>0</td>\n",
       "      <td>1</td>\n",
       "    </tr>\n",
       "    <tr>\n",
       "      <td>2</td>\n",
       "      <td>not_repeat</td>\n",
       "      <td>0.033333</td>\n",
       "      <td>0.0</td>\n",
       "      <td>0.0</td>\n",
       "      <td>0.000000</td>\n",
       "      <td>0.32427</td>\n",
       "      <td>0.033333</td>\n",
       "      <td>Morning</td>\n",
       "      <td>Thursday</td>\n",
       "      <td>0</td>\n",
       "      <td>...</td>\n",
       "      <td>0</td>\n",
       "      <td>0</td>\n",
       "      <td>1</td>\n",
       "      <td>0</td>\n",
       "      <td>0</td>\n",
       "      <td>0</td>\n",
       "      <td>0</td>\n",
       "      <td>1</td>\n",
       "      <td>0</td>\n",
       "      <td>4</td>\n",
       "    </tr>\n",
       "    <tr>\n",
       "      <td>3</td>\n",
       "      <td>not_repeat</td>\n",
       "      <td>83.933333</td>\n",
       "      <td>3.0</td>\n",
       "      <td>0.0</td>\n",
       "      <td>0.000000</td>\n",
       "      <td>0.32427</td>\n",
       "      <td>83.933333</td>\n",
       "      <td>Night</td>\n",
       "      <td>Friday</td>\n",
       "      <td>1</td>\n",
       "      <td>...</td>\n",
       "      <td>0</td>\n",
       "      <td>0</td>\n",
       "      <td>0</td>\n",
       "      <td>0</td>\n",
       "      <td>0</td>\n",
       "      <td>0</td>\n",
       "      <td>0</td>\n",
       "      <td>0</td>\n",
       "      <td>1</td>\n",
       "      <td>2</td>\n",
       "    </tr>\n",
       "    <tr>\n",
       "      <td>4</td>\n",
       "      <td>not_repeat</td>\n",
       "      <td>1.183333</td>\n",
       "      <td>5.0</td>\n",
       "      <td>1.0</td>\n",
       "      <td>0.000000</td>\n",
       "      <td>0.00000</td>\n",
       "      <td>0.450000</td>\n",
       "      <td>Afternoon</td>\n",
       "      <td>Tuesday</td>\n",
       "      <td>0</td>\n",
       "      <td>...</td>\n",
       "      <td>0</td>\n",
       "      <td>0</td>\n",
       "      <td>0</td>\n",
       "      <td>1</td>\n",
       "      <td>0</td>\n",
       "      <td>1</td>\n",
       "      <td>0</td>\n",
       "      <td>0</td>\n",
       "      <td>0</td>\n",
       "      <td>1</td>\n",
       "    </tr>\n",
       "  </tbody>\n",
       "</table>\n",
       "<p>5 rows × 21 columns</p>\n",
       "</div>"
      ],
      "text/plain": [
       "   repeat_user  minutes_content_consumed  search_num  \\\n",
       "0  repeat_user                 49.400000         1.0   \n",
       "1   not_repeat                 34.133333         1.0   \n",
       "2   not_repeat                  0.033333         0.0   \n",
       "3   not_repeat                 83.933333         3.0   \n",
       "4   not_repeat                  1.183333         5.0   \n",
       "\n",
       "   distinct_number_of_videos_consumed  asset_completion_rate  \\\n",
       "0                                 7.0               0.888889   \n",
       "1                                 6.0               0.857143   \n",
       "2                                 0.0               0.000000   \n",
       "3                                 0.0               0.000000   \n",
       "4                                 1.0               0.000000   \n",
       "\n",
       "   course_completion_rate  first_asset_minutes_spent time_of_day day_of_week  \\\n",
       "0                 1.00000                   0.866667       Night     Tuesday   \n",
       "1                 1.00000                   0.000000   Afternoon     Tuesday   \n",
       "2                 0.32427                   0.033333     Morning    Thursday   \n",
       "3                 0.32427                  83.933333       Night      Friday   \n",
       "4                 0.00000                   0.450000   Afternoon     Tuesday   \n",
       "\n",
       "   Friday  ...  Saturday  Sunday  Thursday  Tuesday  Wednesday  Afternoon  \\\n",
       "0       0  ...         0       0         0        1          0          0   \n",
       "1       0  ...         0       0         0        1          0          1   \n",
       "2       0  ...         0       0         1        0          0          0   \n",
       "3       1  ...         0       0         0        0          0          0   \n",
       "4       0  ...         0       0         0        1          0          1   \n",
       "\n",
       "   Evening  Morning  Night  Cluster  \n",
       "0        0        0      1        1  \n",
       "1        0        0      0        1  \n",
       "2        0        1      0        4  \n",
       "3        0        0      1        2  \n",
       "4        0        0      0        1  \n",
       "\n",
       "[5 rows x 21 columns]"
      ]
     },
     "execution_count": 254,
     "metadata": {},
     "output_type": "execute_result"
    }
   ],
   "source": [
    "lat_data2.head()"
   ]
  },
  {
   "cell_type": "code",
   "execution_count": 255,
   "metadata": {},
   "outputs": [],
   "source": [
    "X = lat_data2.drop([\"repeat_user\", \"time_of_day\", \"day_of_week\"], axis=1)\n",
    "y = lat_data2[\"repeat_user\"]"
   ]
  },
  {
   "cell_type": "code",
   "execution_count": 257,
   "metadata": {},
   "outputs": [],
   "source": [
    "X_train, X_test, y_train, y_test = train_test_split(X, y, test_size=0.30, random_state=42)\n"
   ]
  },
  {
   "cell_type": "code",
   "execution_count": 258,
   "metadata": {},
   "outputs": [
    {
     "name": "stdout",
     "output_type": "stream",
     "text": [
      "RF Accuracy = 0.61\n",
      "[[5450 1919]\n",
      " [3473 3158]]\n",
      "              precision    recall  f1-score   support\n",
      "\n",
      "  not_repeat       0.61      0.74      0.67      7369\n",
      " repeat_user       0.62      0.48      0.54      6631\n",
      "\n",
      "    accuracy                           0.61     14000\n",
      "   macro avg       0.62      0.61      0.60     14000\n",
      "weighted avg       0.62      0.61      0.61     14000\n",
      "\n"
     ]
    }
   ],
   "source": [
    "RandomForest2 = RandomForestClassifier(n_estimators=500, \n",
    "                                      max_depth=4, \n",
    "                                      criterion=\"gini\", \n",
    "                                      bootstrap=True, )\n",
    "\n",
    "RandomForest2.fit(X_train,y_train)\n",
    "predict_y_train = RandomForest2.predict(X_train)\n",
    "\n",
    "confusion_matrix(y_train, predict_y_train)\n",
    "\n",
    "print (\"RF Accuracy = %.2f\" % (accuracy_score(y_train, predict_y_train)))\n",
    "print(confusion_matrix(y_train, predict_y_train))\n",
    "print(classification_report(y_train, predict_y_train))"
   ]
  },
  {
   "cell_type": "code",
   "execution_count": 259,
   "metadata": {},
   "outputs": [
    {
     "data": {
      "text/plain": [
       "array([0.26167677, 0.31241036, 0.13017314, 0.11585583, 0.05505427,\n",
       "       0.08925966, 0.00185885, 0.00177631, 0.00300939, 0.0009767 ,\n",
       "       0.00138283, 0.00266755, 0.00315761, 0.00273763, 0.00240907,\n",
       "       0.00187419, 0.00748004, 0.00623978])"
      ]
     },
     "execution_count": 259,
     "metadata": {},
     "output_type": "execute_result"
    }
   ],
   "source": [
    "RandomForest2.feature_importances_"
   ]
  },
  {
   "cell_type": "code",
   "execution_count": 262,
   "metadata": {},
   "outputs": [],
   "source": [
    "scaler = StandardScaler() \n",
    "X_scaled = scaler.fit_transform(X)\n",
    "X_normalized = normalize(X_scaled)"
   ]
  },
  {
   "cell_type": "code",
   "execution_count": 263,
   "metadata": {},
   "outputs": [
    {
     "data": {
      "text/html": [
       "<div>\n",
       "<style scoped>\n",
       "    .dataframe tbody tr th:only-of-type {\n",
       "        vertical-align: middle;\n",
       "    }\n",
       "\n",
       "    .dataframe tbody tr th {\n",
       "        vertical-align: top;\n",
       "    }\n",
       "\n",
       "    .dataframe thead th {\n",
       "        text-align: right;\n",
       "    }\n",
       "</style>\n",
       "<table border=\"1\" class=\"dataframe\">\n",
       "  <thead>\n",
       "    <tr style=\"text-align: right;\">\n",
       "      <th></th>\n",
       "      <th>0</th>\n",
       "      <th>1</th>\n",
       "      <th>2</th>\n",
       "      <th>3</th>\n",
       "      <th>4</th>\n",
       "      <th>5</th>\n",
       "      <th>6</th>\n",
       "      <th>7</th>\n",
       "      <th>8</th>\n",
       "      <th>9</th>\n",
       "      <th>10</th>\n",
       "      <th>11</th>\n",
       "      <th>12</th>\n",
       "      <th>13</th>\n",
       "      <th>14</th>\n",
       "      <th>15</th>\n",
       "      <th>16</th>\n",
       "      <th>17</th>\n",
       "    </tr>\n",
       "  </thead>\n",
       "  <tbody>\n",
       "    <tr>\n",
       "      <td>0</td>\n",
       "      <td>-0.018173</td>\n",
       "      <td>0.151136</td>\n",
       "      <td>0.060977</td>\n",
       "      <td>0.211675</td>\n",
       "      <td>4.153555e-01</td>\n",
       "      <td>-0.035359</td>\n",
       "      <td>-0.096819</td>\n",
       "      <td>-0.110350</td>\n",
       "      <td>-0.040791</td>\n",
       "      <td>-0.034441</td>\n",
       "      <td>-0.102816</td>\n",
       "      <td>0.467691</td>\n",
       "      <td>-0.103247</td>\n",
       "      <td>-0.143618</td>\n",
       "      <td>-0.078221</td>\n",
       "      <td>-0.158346</td>\n",
       "      <td>0.565115</td>\n",
       "      <td>-0.344953</td>\n",
       "    </tr>\n",
       "    <tr>\n",
       "      <td>1</td>\n",
       "      <td>-0.049743</td>\n",
       "      <td>0.168703</td>\n",
       "      <td>0.032217</td>\n",
       "      <td>0.217816</td>\n",
       "      <td>4.636326e-01</td>\n",
       "      <td>-0.041103</td>\n",
       "      <td>-0.108073</td>\n",
       "      <td>-0.123176</td>\n",
       "      <td>-0.045532</td>\n",
       "      <td>-0.038444</td>\n",
       "      <td>-0.114766</td>\n",
       "      <td>0.522051</td>\n",
       "      <td>-0.115247</td>\n",
       "      <td>0.419581</td>\n",
       "      <td>-0.087313</td>\n",
       "      <td>-0.176750</td>\n",
       "      <td>-0.106633</td>\n",
       "      <td>-0.385047</td>\n",
       "    </tr>\n",
       "    <tr>\n",
       "      <td>2</td>\n",
       "      <td>-0.134251</td>\n",
       "      <td>-0.064256</td>\n",
       "      <td>-0.212478</td>\n",
       "      <td>-0.326130</td>\n",
       "      <td>-2.212750e-16</td>\n",
       "      <td>-0.047686</td>\n",
       "      <td>-0.125573</td>\n",
       "      <td>-0.143123</td>\n",
       "      <td>-0.052905</td>\n",
       "      <td>-0.044669</td>\n",
       "      <td>0.681003</td>\n",
       "      <td>-0.149709</td>\n",
       "      <td>-0.133910</td>\n",
       "      <td>-0.186271</td>\n",
       "      <td>-0.101452</td>\n",
       "      <td>0.442183</td>\n",
       "      <td>-0.123900</td>\n",
       "      <td>0.151796</td>\n",
       "    </tr>\n",
       "    <tr>\n",
       "      <td>3</td>\n",
       "      <td>0.038287</td>\n",
       "      <td>0.509438</td>\n",
       "      <td>-0.151057</td>\n",
       "      <td>-0.231857</td>\n",
       "      <td>-1.573116e-16</td>\n",
       "      <td>0.096772</td>\n",
       "      <td>0.514133</td>\n",
       "      <td>-0.101750</td>\n",
       "      <td>-0.037612</td>\n",
       "      <td>-0.031757</td>\n",
       "      <td>-0.094803</td>\n",
       "      <td>-0.106433</td>\n",
       "      <td>-0.095201</td>\n",
       "      <td>-0.132426</td>\n",
       "      <td>-0.072125</td>\n",
       "      <td>-0.146006</td>\n",
       "      <td>0.521076</td>\n",
       "      <td>-0.176075</td>\n",
       "    </tr>\n",
       "    <tr>\n",
       "      <td>4</td>\n",
       "      <td>-0.080092</td>\n",
       "      <td>0.752508</td>\n",
       "      <td>-0.103908</td>\n",
       "      <td>-0.198375</td>\n",
       "      <td>-1.572474e-01</td>\n",
       "      <td>-0.028451</td>\n",
       "      <td>-0.076382</td>\n",
       "      <td>-0.087057</td>\n",
       "      <td>-0.032181</td>\n",
       "      <td>-0.027171</td>\n",
       "      <td>-0.081113</td>\n",
       "      <td>0.368969</td>\n",
       "      <td>-0.081453</td>\n",
       "      <td>0.296546</td>\n",
       "      <td>-0.061710</td>\n",
       "      <td>-0.124921</td>\n",
       "      <td>-0.075364</td>\n",
       "      <td>-0.272139</td>\n",
       "    </tr>\n",
       "  </tbody>\n",
       "</table>\n",
       "</div>"
      ],
      "text/plain": [
       "          0         1         2         3             4         5         6  \\\n",
       "0 -0.018173  0.151136  0.060977  0.211675  4.153555e-01 -0.035359 -0.096819   \n",
       "1 -0.049743  0.168703  0.032217  0.217816  4.636326e-01 -0.041103 -0.108073   \n",
       "2 -0.134251 -0.064256 -0.212478 -0.326130 -2.212750e-16 -0.047686 -0.125573   \n",
       "3  0.038287  0.509438 -0.151057 -0.231857 -1.573116e-16  0.096772  0.514133   \n",
       "4 -0.080092  0.752508 -0.103908 -0.198375 -1.572474e-01 -0.028451 -0.076382   \n",
       "\n",
       "          7         8         9        10        11        12        13  \\\n",
       "0 -0.110350 -0.040791 -0.034441 -0.102816  0.467691 -0.103247 -0.143618   \n",
       "1 -0.123176 -0.045532 -0.038444 -0.114766  0.522051 -0.115247  0.419581   \n",
       "2 -0.143123 -0.052905 -0.044669  0.681003 -0.149709 -0.133910 -0.186271   \n",
       "3 -0.101750 -0.037612 -0.031757 -0.094803 -0.106433 -0.095201 -0.132426   \n",
       "4 -0.087057 -0.032181 -0.027171 -0.081113  0.368969 -0.081453  0.296546   \n",
       "\n",
       "         14        15        16        17  \n",
       "0 -0.078221 -0.158346  0.565115 -0.344953  \n",
       "1 -0.087313 -0.176750 -0.106633 -0.385047  \n",
       "2 -0.101452  0.442183 -0.123900  0.151796  \n",
       "3 -0.072125 -0.146006  0.521076 -0.176075  \n",
       "4 -0.061710 -0.124921 -0.075364 -0.272139  "
      ]
     },
     "execution_count": 263,
     "metadata": {},
     "output_type": "execute_result"
    }
   ],
   "source": [
    "X_normalized = pd.DataFrame(X_normalized)\n",
    "X_normalized.head()"
   ]
  },
  {
   "cell_type": "code",
   "execution_count": 264,
   "metadata": {},
   "outputs": [
    {
     "data": {
      "text/html": [
       "<div>\n",
       "<style scoped>\n",
       "    .dataframe tbody tr th:only-of-type {\n",
       "        vertical-align: middle;\n",
       "    }\n",
       "\n",
       "    .dataframe tbody tr th {\n",
       "        vertical-align: top;\n",
       "    }\n",
       "\n",
       "    .dataframe thead th {\n",
       "        text-align: right;\n",
       "    }\n",
       "</style>\n",
       "<table border=\"1\" class=\"dataframe\">\n",
       "  <thead>\n",
       "    <tr style=\"text-align: right;\">\n",
       "      <th></th>\n",
       "      <th>minutes_content_consumed</th>\n",
       "      <th>search_num</th>\n",
       "      <th>distinct_number_of_videos_consumed</th>\n",
       "      <th>asset_completion_rate</th>\n",
       "      <th>course_completion_rate</th>\n",
       "      <th>first_asset_minutes_spent</th>\n",
       "      <th>Friday</th>\n",
       "      <th>Monday</th>\n",
       "      <th>Saturday</th>\n",
       "      <th>Sunday</th>\n",
       "      <th>Thursday</th>\n",
       "      <th>Tuesday</th>\n",
       "      <th>Wednesday</th>\n",
       "      <th>Afternoon</th>\n",
       "      <th>Evening</th>\n",
       "      <th>Morning</th>\n",
       "      <th>Night</th>\n",
       "      <th>Cluster</th>\n",
       "    </tr>\n",
       "  </thead>\n",
       "  <tbody>\n",
       "    <tr>\n",
       "      <td>0</td>\n",
       "      <td>-0.018173</td>\n",
       "      <td>0.151136</td>\n",
       "      <td>0.060977</td>\n",
       "      <td>0.211675</td>\n",
       "      <td>4.153555e-01</td>\n",
       "      <td>-0.035359</td>\n",
       "      <td>-0.096819</td>\n",
       "      <td>-0.110350</td>\n",
       "      <td>-0.040791</td>\n",
       "      <td>-0.034441</td>\n",
       "      <td>-0.102816</td>\n",
       "      <td>0.467691</td>\n",
       "      <td>-0.103247</td>\n",
       "      <td>-0.143618</td>\n",
       "      <td>-0.078221</td>\n",
       "      <td>-0.158346</td>\n",
       "      <td>0.565115</td>\n",
       "      <td>-0.344953</td>\n",
       "    </tr>\n",
       "    <tr>\n",
       "      <td>1</td>\n",
       "      <td>-0.049743</td>\n",
       "      <td>0.168703</td>\n",
       "      <td>0.032217</td>\n",
       "      <td>0.217816</td>\n",
       "      <td>4.636326e-01</td>\n",
       "      <td>-0.041103</td>\n",
       "      <td>-0.108073</td>\n",
       "      <td>-0.123176</td>\n",
       "      <td>-0.045532</td>\n",
       "      <td>-0.038444</td>\n",
       "      <td>-0.114766</td>\n",
       "      <td>0.522051</td>\n",
       "      <td>-0.115247</td>\n",
       "      <td>0.419581</td>\n",
       "      <td>-0.087313</td>\n",
       "      <td>-0.176750</td>\n",
       "      <td>-0.106633</td>\n",
       "      <td>-0.385047</td>\n",
       "    </tr>\n",
       "    <tr>\n",
       "      <td>2</td>\n",
       "      <td>-0.134251</td>\n",
       "      <td>-0.064256</td>\n",
       "      <td>-0.212478</td>\n",
       "      <td>-0.326130</td>\n",
       "      <td>-2.212750e-16</td>\n",
       "      <td>-0.047686</td>\n",
       "      <td>-0.125573</td>\n",
       "      <td>-0.143123</td>\n",
       "      <td>-0.052905</td>\n",
       "      <td>-0.044669</td>\n",
       "      <td>0.681003</td>\n",
       "      <td>-0.149709</td>\n",
       "      <td>-0.133910</td>\n",
       "      <td>-0.186271</td>\n",
       "      <td>-0.101452</td>\n",
       "      <td>0.442183</td>\n",
       "      <td>-0.123900</td>\n",
       "      <td>0.151796</td>\n",
       "    </tr>\n",
       "    <tr>\n",
       "      <td>3</td>\n",
       "      <td>0.038287</td>\n",
       "      <td>0.509438</td>\n",
       "      <td>-0.151057</td>\n",
       "      <td>-0.231857</td>\n",
       "      <td>-1.573116e-16</td>\n",
       "      <td>0.096772</td>\n",
       "      <td>0.514133</td>\n",
       "      <td>-0.101750</td>\n",
       "      <td>-0.037612</td>\n",
       "      <td>-0.031757</td>\n",
       "      <td>-0.094803</td>\n",
       "      <td>-0.106433</td>\n",
       "      <td>-0.095201</td>\n",
       "      <td>-0.132426</td>\n",
       "      <td>-0.072125</td>\n",
       "      <td>-0.146006</td>\n",
       "      <td>0.521076</td>\n",
       "      <td>-0.176075</td>\n",
       "    </tr>\n",
       "    <tr>\n",
       "      <td>4</td>\n",
       "      <td>-0.080092</td>\n",
       "      <td>0.752508</td>\n",
       "      <td>-0.103908</td>\n",
       "      <td>-0.198375</td>\n",
       "      <td>-1.572474e-01</td>\n",
       "      <td>-0.028451</td>\n",
       "      <td>-0.076382</td>\n",
       "      <td>-0.087057</td>\n",
       "      <td>-0.032181</td>\n",
       "      <td>-0.027171</td>\n",
       "      <td>-0.081113</td>\n",
       "      <td>0.368969</td>\n",
       "      <td>-0.081453</td>\n",
       "      <td>0.296546</td>\n",
       "      <td>-0.061710</td>\n",
       "      <td>-0.124921</td>\n",
       "      <td>-0.075364</td>\n",
       "      <td>-0.272139</td>\n",
       "    </tr>\n",
       "  </tbody>\n",
       "</table>\n",
       "</div>"
      ],
      "text/plain": [
       "   minutes_content_consumed  search_num  distinct_number_of_videos_consumed  \\\n",
       "0                 -0.018173    0.151136                            0.060977   \n",
       "1                 -0.049743    0.168703                            0.032217   \n",
       "2                 -0.134251   -0.064256                           -0.212478   \n",
       "3                  0.038287    0.509438                           -0.151057   \n",
       "4                 -0.080092    0.752508                           -0.103908   \n",
       "\n",
       "   asset_completion_rate  course_completion_rate  first_asset_minutes_spent  \\\n",
       "0               0.211675            4.153555e-01                  -0.035359   \n",
       "1               0.217816            4.636326e-01                  -0.041103   \n",
       "2              -0.326130           -2.212750e-16                  -0.047686   \n",
       "3              -0.231857           -1.573116e-16                   0.096772   \n",
       "4              -0.198375           -1.572474e-01                  -0.028451   \n",
       "\n",
       "     Friday    Monday  Saturday    Sunday  Thursday   Tuesday  Wednesday  \\\n",
       "0 -0.096819 -0.110350 -0.040791 -0.034441 -0.102816  0.467691  -0.103247   \n",
       "1 -0.108073 -0.123176 -0.045532 -0.038444 -0.114766  0.522051  -0.115247   \n",
       "2 -0.125573 -0.143123 -0.052905 -0.044669  0.681003 -0.149709  -0.133910   \n",
       "3  0.514133 -0.101750 -0.037612 -0.031757 -0.094803 -0.106433  -0.095201   \n",
       "4 -0.076382 -0.087057 -0.032181 -0.027171 -0.081113  0.368969  -0.081453   \n",
       "\n",
       "   Afternoon   Evening   Morning     Night   Cluster  \n",
       "0  -0.143618 -0.078221 -0.158346  0.565115 -0.344953  \n",
       "1   0.419581 -0.087313 -0.176750 -0.106633 -0.385047  \n",
       "2  -0.186271 -0.101452  0.442183 -0.123900  0.151796  \n",
       "3  -0.132426 -0.072125 -0.146006  0.521076 -0.176075  \n",
       "4   0.296546 -0.061710 -0.124921 -0.075364 -0.272139  "
      ]
     },
     "execution_count": 264,
     "metadata": {},
     "output_type": "execute_result"
    }
   ],
   "source": [
    "X_normalized.columns = X.columns\n",
    "X_normalized.head()"
   ]
  },
  {
   "cell_type": "code",
   "execution_count": 270,
   "metadata": {},
   "outputs": [],
   "source": [
    "X_train, X_test, y_train, y_test = train_test_split(X_normalized, y, test_size=0.30, random_state=42)"
   ]
  },
  {
   "cell_type": "code",
   "execution_count": 271,
   "metadata": {},
   "outputs": [
    {
     "name": "stdout",
     "output_type": "stream",
     "text": [
      "RF Accuracy = 0.62\n",
      "[[5562 1807]\n",
      " [3496 3135]]\n",
      "              precision    recall  f1-score   support\n",
      "\n",
      "  not_repeat       0.61      0.75      0.68      7369\n",
      " repeat_user       0.63      0.47      0.54      6631\n",
      "\n",
      "    accuracy                           0.62     14000\n",
      "   macro avg       0.62      0.61      0.61     14000\n",
      "weighted avg       0.62      0.62      0.61     14000\n",
      "\n"
     ]
    }
   ],
   "source": [
    "RandomForest2 = RandomForestClassifier(n_estimators=1000, \n",
    "                                      max_depth=4, \n",
    "                                      criterion=\"gini\", \n",
    "                                      bootstrap=True, )\n",
    "\n",
    "RandomForest2.fit(X_train,y_train)\n",
    "predict_y_train = RandomForest2.predict(X_train)\n",
    "\n",
    "confusion_matrix(y_train, predict_y_train)\n",
    "\n",
    "print (\"RF Accuracy = %.2f\" % (accuracy_score(y_train, predict_y_train)))\n",
    "print(confusion_matrix(y_train, predict_y_train))\n",
    "print(classification_report(y_train, predict_y_train))"
   ]
  },
  {
   "cell_type": "code",
   "execution_count": 272,
   "metadata": {},
   "outputs": [],
   "source": [
    "from sklearn.decomposition import PCA \n",
    "# fitting PCA\n",
    "# pca = PCA(n_components=2)\n",
    "pca = PCA(.90)\n",
    "inp_scaled_pca = pca.fit_transform(X_normalized) "
   ]
  },
  {
   "cell_type": "code",
   "execution_count": 275,
   "metadata": {},
   "outputs": [],
   "source": [
    "X_train, X_test, y_train, y_test = train_test_split(inp_scaled_pca, y, test_size=0.30, random_state=42)"
   ]
  },
  {
   "cell_type": "code",
   "execution_count": 276,
   "metadata": {},
   "outputs": [
    {
     "name": "stdout",
     "output_type": "stream",
     "text": [
      "RF Accuracy = 0.61\n",
      "[[5881 1488]\n",
      " [4041 2590]]\n",
      "              precision    recall  f1-score   support\n",
      "\n",
      "  not_repeat       0.59      0.80      0.68      7369\n",
      " repeat_user       0.64      0.39      0.48      6631\n",
      "\n",
      "    accuracy                           0.61     14000\n",
      "   macro avg       0.61      0.59      0.58     14000\n",
      "weighted avg       0.61      0.61      0.59     14000\n",
      "\n"
     ]
    }
   ],
   "source": [
    "RandomForest2 = RandomForestClassifier(n_estimators=500, \n",
    "                                      max_depth=4, \n",
    "                                      criterion=\"gini\", \n",
    "                                      bootstrap=True, )\n",
    "\n",
    "RandomForest2.fit(X_train,y_train)\n",
    "predict_y_train = RandomForest2.predict(X_train)\n",
    "\n",
    "confusion_matrix(y_train, predict_y_train)\n",
    "\n",
    "print (\"RF Accuracy = %.2f\" % (accuracy_score(y_train, predict_y_train)))\n",
    "print(confusion_matrix(y_train, predict_y_train))\n",
    "print(classification_report(y_train, predict_y_train))"
   ]
  },
  {
   "cell_type": "code",
   "execution_count": null,
   "metadata": {},
   "outputs": [],
   "source": []
  }
 ],
 "metadata": {
  "kernelspec": {
   "display_name": "Python 3",
   "language": "python",
   "name": "python3"
  },
  "language_info": {
   "codemirror_mode": {
    "name": "ipython",
    "version": 3
   },
   "file_extension": ".py",
   "mimetype": "text/x-python",
   "name": "python",
   "nbconvert_exporter": "python",
   "pygments_lexer": "ipython3",
   "version": "3.8.5"
  }
 },
 "nbformat": 4,
 "nbformat_minor": 2
}
